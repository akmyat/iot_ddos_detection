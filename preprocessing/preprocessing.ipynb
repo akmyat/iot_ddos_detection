{
 "cells": [
  {
   "cell_type": "code",
   "execution_count": 1,
   "outputs": [],
   "source": [
    "import pandas as pd"
   ],
   "metadata": {
    "collapsed": false,
    "pycharm": {
     "name": "#%%\n"
    }
   }
  },
  {
   "cell_type": "code",
   "execution_count": 2,
   "outputs": [
    {
     "name": "stderr",
     "output_type": "stream",
     "text": [
      "2022-03-09 11:58:43.900238: I tensorflow/stream_executor/cuda/cuda_gpu_executor.cc:936] successful NUMA node read from SysFS had negative value (-1), but there must be at least one NUMA node, so returning NUMA node zero\n",
      "2022-03-09 11:58:43.909256: W tensorflow/stream_executor/platform/default/dso_loader.cc:64] Could not load dynamic library 'libcudnn.so.8'; dlerror: libcudnn.so.8: cannot open shared object file: No such file or directory\n",
      "2022-03-09 11:58:43.909278: W tensorflow/core/common_runtime/gpu/gpu_device.cc:1850] Cannot dlopen some GPU libraries. Please make sure the missing libraries mentioned above are installed properly if you would like to use GPU. Follow the guide at https://www.tensorflow.org/install/gpu for how to download and setup the required libraries for your platform.\n",
      "Skipping registering GPU devices...\n",
      "2022-03-09 11:58:43.909871: I tensorflow/core/platform/cpu_feature_guard.cc:151] This TensorFlow binary is optimized with oneAPI Deep Neural Network Library (oneDNN) to use the following CPU instructions in performance-critical operations:  AVX2 FMA\n",
      "To enable them in other operations, rebuild TensorFlow with the appropriate compiler flags.\n"
     ]
    }
   ],
   "source": [
    "import chars2vec\n",
    "c2v_model = chars2vec.load_model('eng_50')\n",
    "\n",
    "def convert_text_numeric(text):\n",
    "    global c2v_model\n",
    "    numeric = c2v_model.vectorize_words([text]).mean()\n",
    "    return numeric"
   ],
   "metadata": {
    "collapsed": false,
    "pycharm": {
     "name": "#%%\n"
    }
   }
  },
  {
   "cell_type": "code",
   "execution_count": 3,
   "outputs": [],
   "source": [
    "df = pd.read_csv(\"Train_Test_Network_dataset/Train_Test_Network.csv\")"
   ],
   "metadata": {
    "collapsed": false,
    "pycharm": {
     "name": "#%%\n"
    }
   }
  },
  {
   "cell_type": "code",
   "execution_count": 4,
   "outputs": [
    {
     "data": {
      "text/plain": "        src_port  dst_port proto service      duration  src_bytes  dst_bytes  \\\n0           1883     52976   tcp       -  80549.530260    1762852   41933215   \n1          47260     15600   udp       -      0.000000          0          0   \n2           1880     51782   tcp       -      0.000000          0          0   \n3          34296     10502   tcp       -      0.000000          0          0   \n4          46608        53   udp     dns      0.000549          0        298   \n...          ...       ...   ...     ...           ...        ...        ...   \n461038     33108        80   tcp       -      0.000000          0          0   \n461039     37242       443   tcp       -      0.000000          0          0   \n461040      4444     49178   tcp       -    290.371539     101568       2592   \n461041     60816       443   tcp       -     23.190902         32         31   \n461042     41054       443   tcp       -     22.872314         32         31   \n\n       conn_state  missed_bytes  src_pkts  src_ip_bytes  dst_pkts  \n0             OTH             0    252181      14911156         2  \n1              S0             0         1            63         0  \n2             OTH             0         0             0         0  \n3             OTH             0         0             0         0  \n4             SHR             0         0             0         2  \n...           ...           ...       ...           ...       ...  \n461038         S0             0         1            60         0  \n461039        OTH             0         0             0         1  \n461040        OTH             0       108        108064        31  \n461041         SF             0         8           411         7  \n461042         SF             0         8           411         6  \n\n[461043 rows x 12 columns]",
      "text/html": "<div>\n<style scoped>\n    .dataframe tbody tr th:only-of-type {\n        vertical-align: middle;\n    }\n\n    .dataframe tbody tr th {\n        vertical-align: top;\n    }\n\n    .dataframe thead th {\n        text-align: right;\n    }\n</style>\n<table border=\"1\" class=\"dataframe\">\n  <thead>\n    <tr style=\"text-align: right;\">\n      <th></th>\n      <th>src_port</th>\n      <th>dst_port</th>\n      <th>proto</th>\n      <th>service</th>\n      <th>duration</th>\n      <th>src_bytes</th>\n      <th>dst_bytes</th>\n      <th>conn_state</th>\n      <th>missed_bytes</th>\n      <th>src_pkts</th>\n      <th>src_ip_bytes</th>\n      <th>dst_pkts</th>\n    </tr>\n  </thead>\n  <tbody>\n    <tr>\n      <th>0</th>\n      <td>1883</td>\n      <td>52976</td>\n      <td>tcp</td>\n      <td>-</td>\n      <td>80549.530260</td>\n      <td>1762852</td>\n      <td>41933215</td>\n      <td>OTH</td>\n      <td>0</td>\n      <td>252181</td>\n      <td>14911156</td>\n      <td>2</td>\n    </tr>\n    <tr>\n      <th>1</th>\n      <td>47260</td>\n      <td>15600</td>\n      <td>udp</td>\n      <td>-</td>\n      <td>0.000000</td>\n      <td>0</td>\n      <td>0</td>\n      <td>S0</td>\n      <td>0</td>\n      <td>1</td>\n      <td>63</td>\n      <td>0</td>\n    </tr>\n    <tr>\n      <th>2</th>\n      <td>1880</td>\n      <td>51782</td>\n      <td>tcp</td>\n      <td>-</td>\n      <td>0.000000</td>\n      <td>0</td>\n      <td>0</td>\n      <td>OTH</td>\n      <td>0</td>\n      <td>0</td>\n      <td>0</td>\n      <td>0</td>\n    </tr>\n    <tr>\n      <th>3</th>\n      <td>34296</td>\n      <td>10502</td>\n      <td>tcp</td>\n      <td>-</td>\n      <td>0.000000</td>\n      <td>0</td>\n      <td>0</td>\n      <td>OTH</td>\n      <td>0</td>\n      <td>0</td>\n      <td>0</td>\n      <td>0</td>\n    </tr>\n    <tr>\n      <th>4</th>\n      <td>46608</td>\n      <td>53</td>\n      <td>udp</td>\n      <td>dns</td>\n      <td>0.000549</td>\n      <td>0</td>\n      <td>298</td>\n      <td>SHR</td>\n      <td>0</td>\n      <td>0</td>\n      <td>0</td>\n      <td>2</td>\n    </tr>\n    <tr>\n      <th>...</th>\n      <td>...</td>\n      <td>...</td>\n      <td>...</td>\n      <td>...</td>\n      <td>...</td>\n      <td>...</td>\n      <td>...</td>\n      <td>...</td>\n      <td>...</td>\n      <td>...</td>\n      <td>...</td>\n      <td>...</td>\n    </tr>\n    <tr>\n      <th>461038</th>\n      <td>33108</td>\n      <td>80</td>\n      <td>tcp</td>\n      <td>-</td>\n      <td>0.000000</td>\n      <td>0</td>\n      <td>0</td>\n      <td>S0</td>\n      <td>0</td>\n      <td>1</td>\n      <td>60</td>\n      <td>0</td>\n    </tr>\n    <tr>\n      <th>461039</th>\n      <td>37242</td>\n      <td>443</td>\n      <td>tcp</td>\n      <td>-</td>\n      <td>0.000000</td>\n      <td>0</td>\n      <td>0</td>\n      <td>OTH</td>\n      <td>0</td>\n      <td>0</td>\n      <td>0</td>\n      <td>1</td>\n    </tr>\n    <tr>\n      <th>461040</th>\n      <td>4444</td>\n      <td>49178</td>\n      <td>tcp</td>\n      <td>-</td>\n      <td>290.371539</td>\n      <td>101568</td>\n      <td>2592</td>\n      <td>OTH</td>\n      <td>0</td>\n      <td>108</td>\n      <td>108064</td>\n      <td>31</td>\n    </tr>\n    <tr>\n      <th>461041</th>\n      <td>60816</td>\n      <td>443</td>\n      <td>tcp</td>\n      <td>-</td>\n      <td>23.190902</td>\n      <td>32</td>\n      <td>31</td>\n      <td>SF</td>\n      <td>0</td>\n      <td>8</td>\n      <td>411</td>\n      <td>7</td>\n    </tr>\n    <tr>\n      <th>461042</th>\n      <td>41054</td>\n      <td>443</td>\n      <td>tcp</td>\n      <td>-</td>\n      <td>22.872314</td>\n      <td>32</td>\n      <td>31</td>\n      <td>SF</td>\n      <td>0</td>\n      <td>8</td>\n      <td>411</td>\n      <td>6</td>\n    </tr>\n  </tbody>\n</table>\n<p>461043 rows × 12 columns</p>\n</div>"
     },
     "execution_count": 4,
     "metadata": {},
     "output_type": "execute_result"
    }
   ],
   "source": [
    "data = df[df.columns[:15]].drop(df.columns[[0, 1, 3]], axis=1)\n",
    "data"
   ],
   "metadata": {
    "collapsed": false,
    "pycharm": {
     "name": "#%%\n"
    }
   }
  },
  {
   "cell_type": "code",
   "execution_count": 5,
   "outputs": [
    {
     "data": {
      "text/plain": "        src_port  dst_port  proto service      duration  src_bytes  dst_bytes  \\\n0           1883     52976      1       -  80549.530260    1762852   41933215   \n1          47260     15600      2       -      0.000000          0          0   \n2           1880     51782      1       -      0.000000          0          0   \n3          34296     10502      1       -      0.000000          0          0   \n4          46608        53      2     dns      0.000549          0        298   \n...          ...       ...    ...     ...           ...        ...        ...   \n461038     33108        80      1       -      0.000000          0          0   \n461039     37242       443      1       -      0.000000          0          0   \n461040      4444     49178      1       -    290.371539     101568       2592   \n461041     60816       443      1       -     23.190902         32         31   \n461042     41054       443      1       -     22.872314         32         31   \n\n       conn_state  missed_bytes  src_pkts  src_ip_bytes  dst_pkts  \n0             OTH             0    252181      14911156         2  \n1              S0             0         1            63         0  \n2             OTH             0         0             0         0  \n3             OTH             0         0             0         0  \n4             SHR             0         0             0         2  \n...           ...           ...       ...           ...       ...  \n461038         S0             0         1            60         0  \n461039        OTH             0         0             0         1  \n461040        OTH             0       108        108064        31  \n461041         SF             0         8           411         7  \n461042         SF             0         8           411         6  \n\n[461043 rows x 12 columns]",
      "text/html": "<div>\n<style scoped>\n    .dataframe tbody tr th:only-of-type {\n        vertical-align: middle;\n    }\n\n    .dataframe tbody tr th {\n        vertical-align: top;\n    }\n\n    .dataframe thead th {\n        text-align: right;\n    }\n</style>\n<table border=\"1\" class=\"dataframe\">\n  <thead>\n    <tr style=\"text-align: right;\">\n      <th></th>\n      <th>src_port</th>\n      <th>dst_port</th>\n      <th>proto</th>\n      <th>service</th>\n      <th>duration</th>\n      <th>src_bytes</th>\n      <th>dst_bytes</th>\n      <th>conn_state</th>\n      <th>missed_bytes</th>\n      <th>src_pkts</th>\n      <th>src_ip_bytes</th>\n      <th>dst_pkts</th>\n    </tr>\n  </thead>\n  <tbody>\n    <tr>\n      <th>0</th>\n      <td>1883</td>\n      <td>52976</td>\n      <td>1</td>\n      <td>-</td>\n      <td>80549.530260</td>\n      <td>1762852</td>\n      <td>41933215</td>\n      <td>OTH</td>\n      <td>0</td>\n      <td>252181</td>\n      <td>14911156</td>\n      <td>2</td>\n    </tr>\n    <tr>\n      <th>1</th>\n      <td>47260</td>\n      <td>15600</td>\n      <td>2</td>\n      <td>-</td>\n      <td>0.000000</td>\n      <td>0</td>\n      <td>0</td>\n      <td>S0</td>\n      <td>0</td>\n      <td>1</td>\n      <td>63</td>\n      <td>0</td>\n    </tr>\n    <tr>\n      <th>2</th>\n      <td>1880</td>\n      <td>51782</td>\n      <td>1</td>\n      <td>-</td>\n      <td>0.000000</td>\n      <td>0</td>\n      <td>0</td>\n      <td>OTH</td>\n      <td>0</td>\n      <td>0</td>\n      <td>0</td>\n      <td>0</td>\n    </tr>\n    <tr>\n      <th>3</th>\n      <td>34296</td>\n      <td>10502</td>\n      <td>1</td>\n      <td>-</td>\n      <td>0.000000</td>\n      <td>0</td>\n      <td>0</td>\n      <td>OTH</td>\n      <td>0</td>\n      <td>0</td>\n      <td>0</td>\n      <td>0</td>\n    </tr>\n    <tr>\n      <th>4</th>\n      <td>46608</td>\n      <td>53</td>\n      <td>2</td>\n      <td>dns</td>\n      <td>0.000549</td>\n      <td>0</td>\n      <td>298</td>\n      <td>SHR</td>\n      <td>0</td>\n      <td>0</td>\n      <td>0</td>\n      <td>2</td>\n    </tr>\n    <tr>\n      <th>...</th>\n      <td>...</td>\n      <td>...</td>\n      <td>...</td>\n      <td>...</td>\n      <td>...</td>\n      <td>...</td>\n      <td>...</td>\n      <td>...</td>\n      <td>...</td>\n      <td>...</td>\n      <td>...</td>\n      <td>...</td>\n    </tr>\n    <tr>\n      <th>461038</th>\n      <td>33108</td>\n      <td>80</td>\n      <td>1</td>\n      <td>-</td>\n      <td>0.000000</td>\n      <td>0</td>\n      <td>0</td>\n      <td>S0</td>\n      <td>0</td>\n      <td>1</td>\n      <td>60</td>\n      <td>0</td>\n    </tr>\n    <tr>\n      <th>461039</th>\n      <td>37242</td>\n      <td>443</td>\n      <td>1</td>\n      <td>-</td>\n      <td>0.000000</td>\n      <td>0</td>\n      <td>0</td>\n      <td>OTH</td>\n      <td>0</td>\n      <td>0</td>\n      <td>0</td>\n      <td>1</td>\n    </tr>\n    <tr>\n      <th>461040</th>\n      <td>4444</td>\n      <td>49178</td>\n      <td>1</td>\n      <td>-</td>\n      <td>290.371539</td>\n      <td>101568</td>\n      <td>2592</td>\n      <td>OTH</td>\n      <td>0</td>\n      <td>108</td>\n      <td>108064</td>\n      <td>31</td>\n    </tr>\n    <tr>\n      <th>461041</th>\n      <td>60816</td>\n      <td>443</td>\n      <td>1</td>\n      <td>-</td>\n      <td>23.190902</td>\n      <td>32</td>\n      <td>31</td>\n      <td>SF</td>\n      <td>0</td>\n      <td>8</td>\n      <td>411</td>\n      <td>7</td>\n    </tr>\n    <tr>\n      <th>461042</th>\n      <td>41054</td>\n      <td>443</td>\n      <td>1</td>\n      <td>-</td>\n      <td>22.872314</td>\n      <td>32</td>\n      <td>31</td>\n      <td>SF</td>\n      <td>0</td>\n      <td>8</td>\n      <td>411</td>\n      <td>6</td>\n    </tr>\n  </tbody>\n</table>\n<p>461043 rows × 12 columns</p>\n</div>"
     },
     "execution_count": 5,
     "metadata": {},
     "output_type": "execute_result"
    }
   ],
   "source": [
    "data['proto'] = df['proto'].astype('category').cat.codes\n",
    "data"
   ],
   "metadata": {
    "collapsed": false,
    "pycharm": {
     "name": "#%%\n"
    }
   }
  },
  {
   "cell_type": "code",
   "execution_count": 6,
   "outputs": [
    {
     "data": {
      "text/plain": "        src_port  dst_port  proto  service      duration  src_bytes  \\\n0           1883     52976      1        0  80549.530260    1762852   \n1          47260     15600      2        0      0.000000          0   \n2           1880     51782      1        0      0.000000          0   \n3          34296     10502      1        0      0.000000          0   \n4          46608        53      2        3      0.000549          0   \n...          ...       ...    ...      ...           ...        ...   \n461038     33108        80      1        0      0.000000          0   \n461039     37242       443      1        0      0.000000          0   \n461040      4444     49178      1        0    290.371539     101568   \n461041     60816       443      1        0     23.190902         32   \n461042     41054       443      1        0     22.872314         32   \n\n        dst_bytes conn_state  missed_bytes  src_pkts  src_ip_bytes  dst_pkts  \n0        41933215        OTH             0    252181      14911156         2  \n1               0         S0             0         1            63         0  \n2               0        OTH             0         0             0         0  \n3               0        OTH             0         0             0         0  \n4             298        SHR             0         0             0         2  \n...           ...        ...           ...       ...           ...       ...  \n461038          0         S0             0         1            60         0  \n461039          0        OTH             0         0             0         1  \n461040       2592        OTH             0       108        108064        31  \n461041         31         SF             0         8           411         7  \n461042         31         SF             0         8           411         6  \n\n[461043 rows x 12 columns]",
      "text/html": "<div>\n<style scoped>\n    .dataframe tbody tr th:only-of-type {\n        vertical-align: middle;\n    }\n\n    .dataframe tbody tr th {\n        vertical-align: top;\n    }\n\n    .dataframe thead th {\n        text-align: right;\n    }\n</style>\n<table border=\"1\" class=\"dataframe\">\n  <thead>\n    <tr style=\"text-align: right;\">\n      <th></th>\n      <th>src_port</th>\n      <th>dst_port</th>\n      <th>proto</th>\n      <th>service</th>\n      <th>duration</th>\n      <th>src_bytes</th>\n      <th>dst_bytes</th>\n      <th>conn_state</th>\n      <th>missed_bytes</th>\n      <th>src_pkts</th>\n      <th>src_ip_bytes</th>\n      <th>dst_pkts</th>\n    </tr>\n  </thead>\n  <tbody>\n    <tr>\n      <th>0</th>\n      <td>1883</td>\n      <td>52976</td>\n      <td>1</td>\n      <td>0</td>\n      <td>80549.530260</td>\n      <td>1762852</td>\n      <td>41933215</td>\n      <td>OTH</td>\n      <td>0</td>\n      <td>252181</td>\n      <td>14911156</td>\n      <td>2</td>\n    </tr>\n    <tr>\n      <th>1</th>\n      <td>47260</td>\n      <td>15600</td>\n      <td>2</td>\n      <td>0</td>\n      <td>0.000000</td>\n      <td>0</td>\n      <td>0</td>\n      <td>S0</td>\n      <td>0</td>\n      <td>1</td>\n      <td>63</td>\n      <td>0</td>\n    </tr>\n    <tr>\n      <th>2</th>\n      <td>1880</td>\n      <td>51782</td>\n      <td>1</td>\n      <td>0</td>\n      <td>0.000000</td>\n      <td>0</td>\n      <td>0</td>\n      <td>OTH</td>\n      <td>0</td>\n      <td>0</td>\n      <td>0</td>\n      <td>0</td>\n    </tr>\n    <tr>\n      <th>3</th>\n      <td>34296</td>\n      <td>10502</td>\n      <td>1</td>\n      <td>0</td>\n      <td>0.000000</td>\n      <td>0</td>\n      <td>0</td>\n      <td>OTH</td>\n      <td>0</td>\n      <td>0</td>\n      <td>0</td>\n      <td>0</td>\n    </tr>\n    <tr>\n      <th>4</th>\n      <td>46608</td>\n      <td>53</td>\n      <td>2</td>\n      <td>3</td>\n      <td>0.000549</td>\n      <td>0</td>\n      <td>298</td>\n      <td>SHR</td>\n      <td>0</td>\n      <td>0</td>\n      <td>0</td>\n      <td>2</td>\n    </tr>\n    <tr>\n      <th>...</th>\n      <td>...</td>\n      <td>...</td>\n      <td>...</td>\n      <td>...</td>\n      <td>...</td>\n      <td>...</td>\n      <td>...</td>\n      <td>...</td>\n      <td>...</td>\n      <td>...</td>\n      <td>...</td>\n      <td>...</td>\n    </tr>\n    <tr>\n      <th>461038</th>\n      <td>33108</td>\n      <td>80</td>\n      <td>1</td>\n      <td>0</td>\n      <td>0.000000</td>\n      <td>0</td>\n      <td>0</td>\n      <td>S0</td>\n      <td>0</td>\n      <td>1</td>\n      <td>60</td>\n      <td>0</td>\n    </tr>\n    <tr>\n      <th>461039</th>\n      <td>37242</td>\n      <td>443</td>\n      <td>1</td>\n      <td>0</td>\n      <td>0.000000</td>\n      <td>0</td>\n      <td>0</td>\n      <td>OTH</td>\n      <td>0</td>\n      <td>0</td>\n      <td>0</td>\n      <td>1</td>\n    </tr>\n    <tr>\n      <th>461040</th>\n      <td>4444</td>\n      <td>49178</td>\n      <td>1</td>\n      <td>0</td>\n      <td>290.371539</td>\n      <td>101568</td>\n      <td>2592</td>\n      <td>OTH</td>\n      <td>0</td>\n      <td>108</td>\n      <td>108064</td>\n      <td>31</td>\n    </tr>\n    <tr>\n      <th>461041</th>\n      <td>60816</td>\n      <td>443</td>\n      <td>1</td>\n      <td>0</td>\n      <td>23.190902</td>\n      <td>32</td>\n      <td>31</td>\n      <td>SF</td>\n      <td>0</td>\n      <td>8</td>\n      <td>411</td>\n      <td>7</td>\n    </tr>\n    <tr>\n      <th>461042</th>\n      <td>41054</td>\n      <td>443</td>\n      <td>1</td>\n      <td>0</td>\n      <td>22.872314</td>\n      <td>32</td>\n      <td>31</td>\n      <td>SF</td>\n      <td>0</td>\n      <td>8</td>\n      <td>411</td>\n      <td>6</td>\n    </tr>\n  </tbody>\n</table>\n<p>461043 rows × 12 columns</p>\n</div>"
     },
     "execution_count": 6,
     "metadata": {},
     "output_type": "execute_result"
    }
   ],
   "source": [
    "data['service'] = df['service'].astype('category').cat.codes\n",
    "data"
   ],
   "metadata": {
    "collapsed": false,
    "pycharm": {
     "name": "#%%\n"
    }
   }
  },
  {
   "cell_type": "code",
   "execution_count": 7,
   "outputs": [
    {
     "data": {
      "text/plain": "        src_port  dst_port  proto  service      duration  src_bytes  \\\n0           1883     52976      1        0  80549.530260    1762852   \n1          47260     15600      2        0      0.000000          0   \n2           1880     51782      1        0      0.000000          0   \n3          34296     10502      1        0      0.000000          0   \n4          46608        53      2        3      0.000549          0   \n...          ...       ...    ...      ...           ...        ...   \n461038     33108        80      1        0      0.000000          0   \n461039     37242       443      1        0      0.000000          0   \n461040      4444     49178      1        0    290.371539     101568   \n461041     60816       443      1        0     23.190902         32   \n461042     41054       443      1        0     22.872314         32   \n\n        dst_bytes  conn_state  missed_bytes  src_pkts  src_ip_bytes  dst_pkts  \n0        41933215           0             0    252181      14911156         2  \n1               0           6             0         1            63         0  \n2               0           0             0         0             0         0  \n3               0           0             0         0             0         0  \n4             298          12             0         0             0         2  \n...           ...         ...           ...       ...           ...       ...  \n461038          0           6             0         1            60         0  \n461039          0           0             0         0             0         1  \n461040       2592           0             0       108        108064        31  \n461041         31          10             0         8           411         7  \n461042         31          10             0         8           411         6  \n\n[461043 rows x 12 columns]",
      "text/html": "<div>\n<style scoped>\n    .dataframe tbody tr th:only-of-type {\n        vertical-align: middle;\n    }\n\n    .dataframe tbody tr th {\n        vertical-align: top;\n    }\n\n    .dataframe thead th {\n        text-align: right;\n    }\n</style>\n<table border=\"1\" class=\"dataframe\">\n  <thead>\n    <tr style=\"text-align: right;\">\n      <th></th>\n      <th>src_port</th>\n      <th>dst_port</th>\n      <th>proto</th>\n      <th>service</th>\n      <th>duration</th>\n      <th>src_bytes</th>\n      <th>dst_bytes</th>\n      <th>conn_state</th>\n      <th>missed_bytes</th>\n      <th>src_pkts</th>\n      <th>src_ip_bytes</th>\n      <th>dst_pkts</th>\n    </tr>\n  </thead>\n  <tbody>\n    <tr>\n      <th>0</th>\n      <td>1883</td>\n      <td>52976</td>\n      <td>1</td>\n      <td>0</td>\n      <td>80549.530260</td>\n      <td>1762852</td>\n      <td>41933215</td>\n      <td>0</td>\n      <td>0</td>\n      <td>252181</td>\n      <td>14911156</td>\n      <td>2</td>\n    </tr>\n    <tr>\n      <th>1</th>\n      <td>47260</td>\n      <td>15600</td>\n      <td>2</td>\n      <td>0</td>\n      <td>0.000000</td>\n      <td>0</td>\n      <td>0</td>\n      <td>6</td>\n      <td>0</td>\n      <td>1</td>\n      <td>63</td>\n      <td>0</td>\n    </tr>\n    <tr>\n      <th>2</th>\n      <td>1880</td>\n      <td>51782</td>\n      <td>1</td>\n      <td>0</td>\n      <td>0.000000</td>\n      <td>0</td>\n      <td>0</td>\n      <td>0</td>\n      <td>0</td>\n      <td>0</td>\n      <td>0</td>\n      <td>0</td>\n    </tr>\n    <tr>\n      <th>3</th>\n      <td>34296</td>\n      <td>10502</td>\n      <td>1</td>\n      <td>0</td>\n      <td>0.000000</td>\n      <td>0</td>\n      <td>0</td>\n      <td>0</td>\n      <td>0</td>\n      <td>0</td>\n      <td>0</td>\n      <td>0</td>\n    </tr>\n    <tr>\n      <th>4</th>\n      <td>46608</td>\n      <td>53</td>\n      <td>2</td>\n      <td>3</td>\n      <td>0.000549</td>\n      <td>0</td>\n      <td>298</td>\n      <td>12</td>\n      <td>0</td>\n      <td>0</td>\n      <td>0</td>\n      <td>2</td>\n    </tr>\n    <tr>\n      <th>...</th>\n      <td>...</td>\n      <td>...</td>\n      <td>...</td>\n      <td>...</td>\n      <td>...</td>\n      <td>...</td>\n      <td>...</td>\n      <td>...</td>\n      <td>...</td>\n      <td>...</td>\n      <td>...</td>\n      <td>...</td>\n    </tr>\n    <tr>\n      <th>461038</th>\n      <td>33108</td>\n      <td>80</td>\n      <td>1</td>\n      <td>0</td>\n      <td>0.000000</td>\n      <td>0</td>\n      <td>0</td>\n      <td>6</td>\n      <td>0</td>\n      <td>1</td>\n      <td>60</td>\n      <td>0</td>\n    </tr>\n    <tr>\n      <th>461039</th>\n      <td>37242</td>\n      <td>443</td>\n      <td>1</td>\n      <td>0</td>\n      <td>0.000000</td>\n      <td>0</td>\n      <td>0</td>\n      <td>0</td>\n      <td>0</td>\n      <td>0</td>\n      <td>0</td>\n      <td>1</td>\n    </tr>\n    <tr>\n      <th>461040</th>\n      <td>4444</td>\n      <td>49178</td>\n      <td>1</td>\n      <td>0</td>\n      <td>290.371539</td>\n      <td>101568</td>\n      <td>2592</td>\n      <td>0</td>\n      <td>0</td>\n      <td>108</td>\n      <td>108064</td>\n      <td>31</td>\n    </tr>\n    <tr>\n      <th>461041</th>\n      <td>60816</td>\n      <td>443</td>\n      <td>1</td>\n      <td>0</td>\n      <td>23.190902</td>\n      <td>32</td>\n      <td>31</td>\n      <td>10</td>\n      <td>0</td>\n      <td>8</td>\n      <td>411</td>\n      <td>7</td>\n    </tr>\n    <tr>\n      <th>461042</th>\n      <td>41054</td>\n      <td>443</td>\n      <td>1</td>\n      <td>0</td>\n      <td>22.872314</td>\n      <td>32</td>\n      <td>31</td>\n      <td>10</td>\n      <td>0</td>\n      <td>8</td>\n      <td>411</td>\n      <td>6</td>\n    </tr>\n  </tbody>\n</table>\n<p>461043 rows × 12 columns</p>\n</div>"
     },
     "execution_count": 7,
     "metadata": {},
     "output_type": "execute_result"
    }
   ],
   "source": [
    "data['conn_state'] = df['conn_state'].astype('category').cat.codes\n",
    "data"
   ],
   "metadata": {
    "collapsed": false,
    "pycharm": {
     "name": "#%%\n"
    }
   }
  },
  {
   "cell_type": "code",
   "execution_count": 8,
   "outputs": [
    {
     "data": {
      "text/plain": "       dns_query  dns_qclass  dns_qtype  dns_rcode dns_AA dns_RD dns_RA  \\\n0              -           0          0          0      -      -      -   \n1              -           0          0          0      -      -      -   \n2              -           0          0          0      -      -      -   \n3              -           0          0          0      -      -      -   \n4              -           0          0          0      -      -      -   \n...          ...         ...        ...        ...    ...    ...    ...   \n461038         -           0          0          0      -      -      -   \n461039         -           0          0          0      -      -      -   \n461040         -           0          0          0      -      -      -   \n461041         -           0          0          0      -      -      -   \n461042         -           0          0          0      -      -      -   \n\n       dns_rejected  \n0                 -  \n1                 -  \n2                 -  \n3                 -  \n4                 -  \n...             ...  \n461038            -  \n461039            -  \n461040            -  \n461041            -  \n461042            -  \n\n[461043 rows x 8 columns]",
      "text/html": "<div>\n<style scoped>\n    .dataframe tbody tr th:only-of-type {\n        vertical-align: middle;\n    }\n\n    .dataframe tbody tr th {\n        vertical-align: top;\n    }\n\n    .dataframe thead th {\n        text-align: right;\n    }\n</style>\n<table border=\"1\" class=\"dataframe\">\n  <thead>\n    <tr style=\"text-align: right;\">\n      <th></th>\n      <th>dns_query</th>\n      <th>dns_qclass</th>\n      <th>dns_qtype</th>\n      <th>dns_rcode</th>\n      <th>dns_AA</th>\n      <th>dns_RD</th>\n      <th>dns_RA</th>\n      <th>dns_rejected</th>\n    </tr>\n  </thead>\n  <tbody>\n    <tr>\n      <th>0</th>\n      <td>-</td>\n      <td>0</td>\n      <td>0</td>\n      <td>0</td>\n      <td>-</td>\n      <td>-</td>\n      <td>-</td>\n      <td>-</td>\n    </tr>\n    <tr>\n      <th>1</th>\n      <td>-</td>\n      <td>0</td>\n      <td>0</td>\n      <td>0</td>\n      <td>-</td>\n      <td>-</td>\n      <td>-</td>\n      <td>-</td>\n    </tr>\n    <tr>\n      <th>2</th>\n      <td>-</td>\n      <td>0</td>\n      <td>0</td>\n      <td>0</td>\n      <td>-</td>\n      <td>-</td>\n      <td>-</td>\n      <td>-</td>\n    </tr>\n    <tr>\n      <th>3</th>\n      <td>-</td>\n      <td>0</td>\n      <td>0</td>\n      <td>0</td>\n      <td>-</td>\n      <td>-</td>\n      <td>-</td>\n      <td>-</td>\n    </tr>\n    <tr>\n      <th>4</th>\n      <td>-</td>\n      <td>0</td>\n      <td>0</td>\n      <td>0</td>\n      <td>-</td>\n      <td>-</td>\n      <td>-</td>\n      <td>-</td>\n    </tr>\n    <tr>\n      <th>...</th>\n      <td>...</td>\n      <td>...</td>\n      <td>...</td>\n      <td>...</td>\n      <td>...</td>\n      <td>...</td>\n      <td>...</td>\n      <td>...</td>\n    </tr>\n    <tr>\n      <th>461038</th>\n      <td>-</td>\n      <td>0</td>\n      <td>0</td>\n      <td>0</td>\n      <td>-</td>\n      <td>-</td>\n      <td>-</td>\n      <td>-</td>\n    </tr>\n    <tr>\n      <th>461039</th>\n      <td>-</td>\n      <td>0</td>\n      <td>0</td>\n      <td>0</td>\n      <td>-</td>\n      <td>-</td>\n      <td>-</td>\n      <td>-</td>\n    </tr>\n    <tr>\n      <th>461040</th>\n      <td>-</td>\n      <td>0</td>\n      <td>0</td>\n      <td>0</td>\n      <td>-</td>\n      <td>-</td>\n      <td>-</td>\n      <td>-</td>\n    </tr>\n    <tr>\n      <th>461041</th>\n      <td>-</td>\n      <td>0</td>\n      <td>0</td>\n      <td>0</td>\n      <td>-</td>\n      <td>-</td>\n      <td>-</td>\n      <td>-</td>\n    </tr>\n    <tr>\n      <th>461042</th>\n      <td>-</td>\n      <td>0</td>\n      <td>0</td>\n      <td>0</td>\n      <td>-</td>\n      <td>-</td>\n      <td>-</td>\n      <td>-</td>\n    </tr>\n  </tbody>\n</table>\n<p>461043 rows × 8 columns</p>\n</div>"
     },
     "execution_count": 8,
     "metadata": {},
     "output_type": "execute_result"
    }
   ],
   "source": [
    "dns_data = df[df.columns[16:24]].copy()\n",
    "dns_data"
   ],
   "metadata": {
    "collapsed": false,
    "pycharm": {
     "name": "#%%\n"
    }
   }
  },
  {
   "cell_type": "code",
   "execution_count": 9,
   "outputs": [
    {
     "data": {
      "text/plain": "        dns_query  dns_qclass  dns_qtype  dns_rcode dns_AA dns_RD dns_RA  \\\n0       -0.002001           0          0          0      -      -      -   \n1       -0.002001           0          0          0      -      -      -   \n2       -0.002001           0          0          0      -      -      -   \n3       -0.002001           0          0          0      -      -      -   \n4       -0.002001           0          0          0      -      -      -   \n...           ...         ...        ...        ...    ...    ...    ...   \n461038  -0.002001           0          0          0      -      -      -   \n461039  -0.002001           0          0          0      -      -      -   \n461040  -0.002001           0          0          0      -      -      -   \n461041  -0.002001           0          0          0      -      -      -   \n461042  -0.002001           0          0          0      -      -      -   \n\n       dns_rejected  \n0                 -  \n1                 -  \n2                 -  \n3                 -  \n4                 -  \n...             ...  \n461038            -  \n461039            -  \n461040            -  \n461041            -  \n461042            -  \n\n[461043 rows x 8 columns]",
      "text/html": "<div>\n<style scoped>\n    .dataframe tbody tr th:only-of-type {\n        vertical-align: middle;\n    }\n\n    .dataframe tbody tr th {\n        vertical-align: top;\n    }\n\n    .dataframe thead th {\n        text-align: right;\n    }\n</style>\n<table border=\"1\" class=\"dataframe\">\n  <thead>\n    <tr style=\"text-align: right;\">\n      <th></th>\n      <th>dns_query</th>\n      <th>dns_qclass</th>\n      <th>dns_qtype</th>\n      <th>dns_rcode</th>\n      <th>dns_AA</th>\n      <th>dns_RD</th>\n      <th>dns_RA</th>\n      <th>dns_rejected</th>\n    </tr>\n  </thead>\n  <tbody>\n    <tr>\n      <th>0</th>\n      <td>-0.002001</td>\n      <td>0</td>\n      <td>0</td>\n      <td>0</td>\n      <td>-</td>\n      <td>-</td>\n      <td>-</td>\n      <td>-</td>\n    </tr>\n    <tr>\n      <th>1</th>\n      <td>-0.002001</td>\n      <td>0</td>\n      <td>0</td>\n      <td>0</td>\n      <td>-</td>\n      <td>-</td>\n      <td>-</td>\n      <td>-</td>\n    </tr>\n    <tr>\n      <th>2</th>\n      <td>-0.002001</td>\n      <td>0</td>\n      <td>0</td>\n      <td>0</td>\n      <td>-</td>\n      <td>-</td>\n      <td>-</td>\n      <td>-</td>\n    </tr>\n    <tr>\n      <th>3</th>\n      <td>-0.002001</td>\n      <td>0</td>\n      <td>0</td>\n      <td>0</td>\n      <td>-</td>\n      <td>-</td>\n      <td>-</td>\n      <td>-</td>\n    </tr>\n    <tr>\n      <th>4</th>\n      <td>-0.002001</td>\n      <td>0</td>\n      <td>0</td>\n      <td>0</td>\n      <td>-</td>\n      <td>-</td>\n      <td>-</td>\n      <td>-</td>\n    </tr>\n    <tr>\n      <th>...</th>\n      <td>...</td>\n      <td>...</td>\n      <td>...</td>\n      <td>...</td>\n      <td>...</td>\n      <td>...</td>\n      <td>...</td>\n      <td>...</td>\n    </tr>\n    <tr>\n      <th>461038</th>\n      <td>-0.002001</td>\n      <td>0</td>\n      <td>0</td>\n      <td>0</td>\n      <td>-</td>\n      <td>-</td>\n      <td>-</td>\n      <td>-</td>\n    </tr>\n    <tr>\n      <th>461039</th>\n      <td>-0.002001</td>\n      <td>0</td>\n      <td>0</td>\n      <td>0</td>\n      <td>-</td>\n      <td>-</td>\n      <td>-</td>\n      <td>-</td>\n    </tr>\n    <tr>\n      <th>461040</th>\n      <td>-0.002001</td>\n      <td>0</td>\n      <td>0</td>\n      <td>0</td>\n      <td>-</td>\n      <td>-</td>\n      <td>-</td>\n      <td>-</td>\n    </tr>\n    <tr>\n      <th>461041</th>\n      <td>-0.002001</td>\n      <td>0</td>\n      <td>0</td>\n      <td>0</td>\n      <td>-</td>\n      <td>-</td>\n      <td>-</td>\n      <td>-</td>\n    </tr>\n    <tr>\n      <th>461042</th>\n      <td>-0.002001</td>\n      <td>0</td>\n      <td>0</td>\n      <td>0</td>\n      <td>-</td>\n      <td>-</td>\n      <td>-</td>\n      <td>-</td>\n    </tr>\n  </tbody>\n</table>\n<p>461043 rows × 8 columns</p>\n</div>"
     },
     "execution_count": 9,
     "metadata": {},
     "output_type": "execute_result"
    }
   ],
   "source": [
    "dns_data['dns_query'] = dns_data['dns_query'].apply(convert_text_numeric)\n",
    "dns_data"
   ],
   "metadata": {
    "collapsed": false,
    "pycharm": {
     "name": "#%%\n"
    }
   }
  },
  {
   "cell_type": "code",
   "execution_count": 10,
   "outputs": [
    {
     "data": {
      "text/plain": "        dns_query  dns_qclass  dns_qtype  dns_rcode  dns_AA dns_RD dns_RA  \\\n0       -0.002001           0          0          0       0      -      -   \n1       -0.002001           0          0          0       0      -      -   \n2       -0.002001           0          0          0       0      -      -   \n3       -0.002001           0          0          0       0      -      -   \n4       -0.002001           0          0          0       0      -      -   \n...           ...         ...        ...        ...     ...    ...    ...   \n461038  -0.002001           0          0          0       0      -      -   \n461039  -0.002001           0          0          0       0      -      -   \n461040  -0.002001           0          0          0       0      -      -   \n461041  -0.002001           0          0          0       0      -      -   \n461042  -0.002001           0          0          0       0      -      -   \n\n       dns_rejected  \n0                 -  \n1                 -  \n2                 -  \n3                 -  \n4                 -  \n...             ...  \n461038            -  \n461039            -  \n461040            -  \n461041            -  \n461042            -  \n\n[461043 rows x 8 columns]",
      "text/html": "<div>\n<style scoped>\n    .dataframe tbody tr th:only-of-type {\n        vertical-align: middle;\n    }\n\n    .dataframe tbody tr th {\n        vertical-align: top;\n    }\n\n    .dataframe thead th {\n        text-align: right;\n    }\n</style>\n<table border=\"1\" class=\"dataframe\">\n  <thead>\n    <tr style=\"text-align: right;\">\n      <th></th>\n      <th>dns_query</th>\n      <th>dns_qclass</th>\n      <th>dns_qtype</th>\n      <th>dns_rcode</th>\n      <th>dns_AA</th>\n      <th>dns_RD</th>\n      <th>dns_RA</th>\n      <th>dns_rejected</th>\n    </tr>\n  </thead>\n  <tbody>\n    <tr>\n      <th>0</th>\n      <td>-0.002001</td>\n      <td>0</td>\n      <td>0</td>\n      <td>0</td>\n      <td>0</td>\n      <td>-</td>\n      <td>-</td>\n      <td>-</td>\n    </tr>\n    <tr>\n      <th>1</th>\n      <td>-0.002001</td>\n      <td>0</td>\n      <td>0</td>\n      <td>0</td>\n      <td>0</td>\n      <td>-</td>\n      <td>-</td>\n      <td>-</td>\n    </tr>\n    <tr>\n      <th>2</th>\n      <td>-0.002001</td>\n      <td>0</td>\n      <td>0</td>\n      <td>0</td>\n      <td>0</td>\n      <td>-</td>\n      <td>-</td>\n      <td>-</td>\n    </tr>\n    <tr>\n      <th>3</th>\n      <td>-0.002001</td>\n      <td>0</td>\n      <td>0</td>\n      <td>0</td>\n      <td>0</td>\n      <td>-</td>\n      <td>-</td>\n      <td>-</td>\n    </tr>\n    <tr>\n      <th>4</th>\n      <td>-0.002001</td>\n      <td>0</td>\n      <td>0</td>\n      <td>0</td>\n      <td>0</td>\n      <td>-</td>\n      <td>-</td>\n      <td>-</td>\n    </tr>\n    <tr>\n      <th>...</th>\n      <td>...</td>\n      <td>...</td>\n      <td>...</td>\n      <td>...</td>\n      <td>...</td>\n      <td>...</td>\n      <td>...</td>\n      <td>...</td>\n    </tr>\n    <tr>\n      <th>461038</th>\n      <td>-0.002001</td>\n      <td>0</td>\n      <td>0</td>\n      <td>0</td>\n      <td>0</td>\n      <td>-</td>\n      <td>-</td>\n      <td>-</td>\n    </tr>\n    <tr>\n      <th>461039</th>\n      <td>-0.002001</td>\n      <td>0</td>\n      <td>0</td>\n      <td>0</td>\n      <td>0</td>\n      <td>-</td>\n      <td>-</td>\n      <td>-</td>\n    </tr>\n    <tr>\n      <th>461040</th>\n      <td>-0.002001</td>\n      <td>0</td>\n      <td>0</td>\n      <td>0</td>\n      <td>0</td>\n      <td>-</td>\n      <td>-</td>\n      <td>-</td>\n    </tr>\n    <tr>\n      <th>461041</th>\n      <td>-0.002001</td>\n      <td>0</td>\n      <td>0</td>\n      <td>0</td>\n      <td>0</td>\n      <td>-</td>\n      <td>-</td>\n      <td>-</td>\n    </tr>\n    <tr>\n      <th>461042</th>\n      <td>-0.002001</td>\n      <td>0</td>\n      <td>0</td>\n      <td>0</td>\n      <td>0</td>\n      <td>-</td>\n      <td>-</td>\n      <td>-</td>\n    </tr>\n  </tbody>\n</table>\n<p>461043 rows × 8 columns</p>\n</div>"
     },
     "execution_count": 10,
     "metadata": {},
     "output_type": "execute_result"
    }
   ],
   "source": [
    "dns_data['dns_AA'] = dns_data['dns_AA'].astype('category').cat.codes\n",
    "dns_data"
   ],
   "metadata": {
    "collapsed": false,
    "pycharm": {
     "name": "#%%\n"
    }
   }
  },
  {
   "cell_type": "code",
   "execution_count": 11,
   "outputs": [
    {
     "data": {
      "text/plain": "        dns_query  dns_qclass  dns_qtype  dns_rcode  dns_AA  dns_RD dns_RA  \\\n0       -0.002001           0          0          0       0       0      -   \n1       -0.002001           0          0          0       0       0      -   \n2       -0.002001           0          0          0       0       0      -   \n3       -0.002001           0          0          0       0       0      -   \n4       -0.002001           0          0          0       0       0      -   \n...           ...         ...        ...        ...     ...     ...    ...   \n461038  -0.002001           0          0          0       0       0      -   \n461039  -0.002001           0          0          0       0       0      -   \n461040  -0.002001           0          0          0       0       0      -   \n461041  -0.002001           0          0          0       0       0      -   \n461042  -0.002001           0          0          0       0       0      -   \n\n       dns_rejected  \n0                 -  \n1                 -  \n2                 -  \n3                 -  \n4                 -  \n...             ...  \n461038            -  \n461039            -  \n461040            -  \n461041            -  \n461042            -  \n\n[461043 rows x 8 columns]",
      "text/html": "<div>\n<style scoped>\n    .dataframe tbody tr th:only-of-type {\n        vertical-align: middle;\n    }\n\n    .dataframe tbody tr th {\n        vertical-align: top;\n    }\n\n    .dataframe thead th {\n        text-align: right;\n    }\n</style>\n<table border=\"1\" class=\"dataframe\">\n  <thead>\n    <tr style=\"text-align: right;\">\n      <th></th>\n      <th>dns_query</th>\n      <th>dns_qclass</th>\n      <th>dns_qtype</th>\n      <th>dns_rcode</th>\n      <th>dns_AA</th>\n      <th>dns_RD</th>\n      <th>dns_RA</th>\n      <th>dns_rejected</th>\n    </tr>\n  </thead>\n  <tbody>\n    <tr>\n      <th>0</th>\n      <td>-0.002001</td>\n      <td>0</td>\n      <td>0</td>\n      <td>0</td>\n      <td>0</td>\n      <td>0</td>\n      <td>-</td>\n      <td>-</td>\n    </tr>\n    <tr>\n      <th>1</th>\n      <td>-0.002001</td>\n      <td>0</td>\n      <td>0</td>\n      <td>0</td>\n      <td>0</td>\n      <td>0</td>\n      <td>-</td>\n      <td>-</td>\n    </tr>\n    <tr>\n      <th>2</th>\n      <td>-0.002001</td>\n      <td>0</td>\n      <td>0</td>\n      <td>0</td>\n      <td>0</td>\n      <td>0</td>\n      <td>-</td>\n      <td>-</td>\n    </tr>\n    <tr>\n      <th>3</th>\n      <td>-0.002001</td>\n      <td>0</td>\n      <td>0</td>\n      <td>0</td>\n      <td>0</td>\n      <td>0</td>\n      <td>-</td>\n      <td>-</td>\n    </tr>\n    <tr>\n      <th>4</th>\n      <td>-0.002001</td>\n      <td>0</td>\n      <td>0</td>\n      <td>0</td>\n      <td>0</td>\n      <td>0</td>\n      <td>-</td>\n      <td>-</td>\n    </tr>\n    <tr>\n      <th>...</th>\n      <td>...</td>\n      <td>...</td>\n      <td>...</td>\n      <td>...</td>\n      <td>...</td>\n      <td>...</td>\n      <td>...</td>\n      <td>...</td>\n    </tr>\n    <tr>\n      <th>461038</th>\n      <td>-0.002001</td>\n      <td>0</td>\n      <td>0</td>\n      <td>0</td>\n      <td>0</td>\n      <td>0</td>\n      <td>-</td>\n      <td>-</td>\n    </tr>\n    <tr>\n      <th>461039</th>\n      <td>-0.002001</td>\n      <td>0</td>\n      <td>0</td>\n      <td>0</td>\n      <td>0</td>\n      <td>0</td>\n      <td>-</td>\n      <td>-</td>\n    </tr>\n    <tr>\n      <th>461040</th>\n      <td>-0.002001</td>\n      <td>0</td>\n      <td>0</td>\n      <td>0</td>\n      <td>0</td>\n      <td>0</td>\n      <td>-</td>\n      <td>-</td>\n    </tr>\n    <tr>\n      <th>461041</th>\n      <td>-0.002001</td>\n      <td>0</td>\n      <td>0</td>\n      <td>0</td>\n      <td>0</td>\n      <td>0</td>\n      <td>-</td>\n      <td>-</td>\n    </tr>\n    <tr>\n      <th>461042</th>\n      <td>-0.002001</td>\n      <td>0</td>\n      <td>0</td>\n      <td>0</td>\n      <td>0</td>\n      <td>0</td>\n      <td>-</td>\n      <td>-</td>\n    </tr>\n  </tbody>\n</table>\n<p>461043 rows × 8 columns</p>\n</div>"
     },
     "execution_count": 11,
     "metadata": {},
     "output_type": "execute_result"
    }
   ],
   "source": [
    "dns_data['dns_RD'] = dns_data['dns_RA'].astype('category').cat.codes\n",
    "dns_data"
   ],
   "metadata": {
    "collapsed": false,
    "pycharm": {
     "name": "#%%\n"
    }
   }
  },
  {
   "cell_type": "code",
   "execution_count": 12,
   "outputs": [
    {
     "data": {
      "text/plain": "        dns_query  dns_qclass  dns_qtype  dns_rcode  dns_AA  dns_RD  dns_RA  \\\n0       -0.002001           0          0          0       0       0       0   \n1       -0.002001           0          0          0       0       0       0   \n2       -0.002001           0          0          0       0       0       0   \n3       -0.002001           0          0          0       0       0       0   \n4       -0.002001           0          0          0       0       0       0   \n...           ...         ...        ...        ...     ...     ...     ...   \n461038  -0.002001           0          0          0       0       0       0   \n461039  -0.002001           0          0          0       0       0       0   \n461040  -0.002001           0          0          0       0       0       0   \n461041  -0.002001           0          0          0       0       0       0   \n461042  -0.002001           0          0          0       0       0       0   \n\n       dns_rejected  \n0                 -  \n1                 -  \n2                 -  \n3                 -  \n4                 -  \n...             ...  \n461038            -  \n461039            -  \n461040            -  \n461041            -  \n461042            -  \n\n[461043 rows x 8 columns]",
      "text/html": "<div>\n<style scoped>\n    .dataframe tbody tr th:only-of-type {\n        vertical-align: middle;\n    }\n\n    .dataframe tbody tr th {\n        vertical-align: top;\n    }\n\n    .dataframe thead th {\n        text-align: right;\n    }\n</style>\n<table border=\"1\" class=\"dataframe\">\n  <thead>\n    <tr style=\"text-align: right;\">\n      <th></th>\n      <th>dns_query</th>\n      <th>dns_qclass</th>\n      <th>dns_qtype</th>\n      <th>dns_rcode</th>\n      <th>dns_AA</th>\n      <th>dns_RD</th>\n      <th>dns_RA</th>\n      <th>dns_rejected</th>\n    </tr>\n  </thead>\n  <tbody>\n    <tr>\n      <th>0</th>\n      <td>-0.002001</td>\n      <td>0</td>\n      <td>0</td>\n      <td>0</td>\n      <td>0</td>\n      <td>0</td>\n      <td>0</td>\n      <td>-</td>\n    </tr>\n    <tr>\n      <th>1</th>\n      <td>-0.002001</td>\n      <td>0</td>\n      <td>0</td>\n      <td>0</td>\n      <td>0</td>\n      <td>0</td>\n      <td>0</td>\n      <td>-</td>\n    </tr>\n    <tr>\n      <th>2</th>\n      <td>-0.002001</td>\n      <td>0</td>\n      <td>0</td>\n      <td>0</td>\n      <td>0</td>\n      <td>0</td>\n      <td>0</td>\n      <td>-</td>\n    </tr>\n    <tr>\n      <th>3</th>\n      <td>-0.002001</td>\n      <td>0</td>\n      <td>0</td>\n      <td>0</td>\n      <td>0</td>\n      <td>0</td>\n      <td>0</td>\n      <td>-</td>\n    </tr>\n    <tr>\n      <th>4</th>\n      <td>-0.002001</td>\n      <td>0</td>\n      <td>0</td>\n      <td>0</td>\n      <td>0</td>\n      <td>0</td>\n      <td>0</td>\n      <td>-</td>\n    </tr>\n    <tr>\n      <th>...</th>\n      <td>...</td>\n      <td>...</td>\n      <td>...</td>\n      <td>...</td>\n      <td>...</td>\n      <td>...</td>\n      <td>...</td>\n      <td>...</td>\n    </tr>\n    <tr>\n      <th>461038</th>\n      <td>-0.002001</td>\n      <td>0</td>\n      <td>0</td>\n      <td>0</td>\n      <td>0</td>\n      <td>0</td>\n      <td>0</td>\n      <td>-</td>\n    </tr>\n    <tr>\n      <th>461039</th>\n      <td>-0.002001</td>\n      <td>0</td>\n      <td>0</td>\n      <td>0</td>\n      <td>0</td>\n      <td>0</td>\n      <td>0</td>\n      <td>-</td>\n    </tr>\n    <tr>\n      <th>461040</th>\n      <td>-0.002001</td>\n      <td>0</td>\n      <td>0</td>\n      <td>0</td>\n      <td>0</td>\n      <td>0</td>\n      <td>0</td>\n      <td>-</td>\n    </tr>\n    <tr>\n      <th>461041</th>\n      <td>-0.002001</td>\n      <td>0</td>\n      <td>0</td>\n      <td>0</td>\n      <td>0</td>\n      <td>0</td>\n      <td>0</td>\n      <td>-</td>\n    </tr>\n    <tr>\n      <th>461042</th>\n      <td>-0.002001</td>\n      <td>0</td>\n      <td>0</td>\n      <td>0</td>\n      <td>0</td>\n      <td>0</td>\n      <td>0</td>\n      <td>-</td>\n    </tr>\n  </tbody>\n</table>\n<p>461043 rows × 8 columns</p>\n</div>"
     },
     "execution_count": 12,
     "metadata": {},
     "output_type": "execute_result"
    }
   ],
   "source": [
    "dns_data['dns_RA'] = dns_data['dns_RA'].astype('category').cat.codes\n",
    "dns_data"
   ],
   "metadata": {
    "collapsed": false,
    "pycharm": {
     "name": "#%%\n"
    }
   }
  },
  {
   "cell_type": "code",
   "execution_count": 13,
   "outputs": [
    {
     "data": {
      "text/plain": "        dns_query  dns_qclass  dns_qtype  dns_rcode  dns_AA  dns_RD  dns_RA  \\\n0       -0.002001           0          0          0       0       0       0   \n1       -0.002001           0          0          0       0       0       0   \n2       -0.002001           0          0          0       0       0       0   \n3       -0.002001           0          0          0       0       0       0   \n4       -0.002001           0          0          0       0       0       0   \n...           ...         ...        ...        ...     ...     ...     ...   \n461038  -0.002001           0          0          0       0       0       0   \n461039  -0.002001           0          0          0       0       0       0   \n461040  -0.002001           0          0          0       0       0       0   \n461041  -0.002001           0          0          0       0       0       0   \n461042  -0.002001           0          0          0       0       0       0   \n\n        dns_rejected  \n0                  0  \n1                  0  \n2                  0  \n3                  0  \n4                  0  \n...              ...  \n461038             0  \n461039             0  \n461040             0  \n461041             0  \n461042             0  \n\n[461043 rows x 8 columns]",
      "text/html": "<div>\n<style scoped>\n    .dataframe tbody tr th:only-of-type {\n        vertical-align: middle;\n    }\n\n    .dataframe tbody tr th {\n        vertical-align: top;\n    }\n\n    .dataframe thead th {\n        text-align: right;\n    }\n</style>\n<table border=\"1\" class=\"dataframe\">\n  <thead>\n    <tr style=\"text-align: right;\">\n      <th></th>\n      <th>dns_query</th>\n      <th>dns_qclass</th>\n      <th>dns_qtype</th>\n      <th>dns_rcode</th>\n      <th>dns_AA</th>\n      <th>dns_RD</th>\n      <th>dns_RA</th>\n      <th>dns_rejected</th>\n    </tr>\n  </thead>\n  <tbody>\n    <tr>\n      <th>0</th>\n      <td>-0.002001</td>\n      <td>0</td>\n      <td>0</td>\n      <td>0</td>\n      <td>0</td>\n      <td>0</td>\n      <td>0</td>\n      <td>0</td>\n    </tr>\n    <tr>\n      <th>1</th>\n      <td>-0.002001</td>\n      <td>0</td>\n      <td>0</td>\n      <td>0</td>\n      <td>0</td>\n      <td>0</td>\n      <td>0</td>\n      <td>0</td>\n    </tr>\n    <tr>\n      <th>2</th>\n      <td>-0.002001</td>\n      <td>0</td>\n      <td>0</td>\n      <td>0</td>\n      <td>0</td>\n      <td>0</td>\n      <td>0</td>\n      <td>0</td>\n    </tr>\n    <tr>\n      <th>3</th>\n      <td>-0.002001</td>\n      <td>0</td>\n      <td>0</td>\n      <td>0</td>\n      <td>0</td>\n      <td>0</td>\n      <td>0</td>\n      <td>0</td>\n    </tr>\n    <tr>\n      <th>4</th>\n      <td>-0.002001</td>\n      <td>0</td>\n      <td>0</td>\n      <td>0</td>\n      <td>0</td>\n      <td>0</td>\n      <td>0</td>\n      <td>0</td>\n    </tr>\n    <tr>\n      <th>...</th>\n      <td>...</td>\n      <td>...</td>\n      <td>...</td>\n      <td>...</td>\n      <td>...</td>\n      <td>...</td>\n      <td>...</td>\n      <td>...</td>\n    </tr>\n    <tr>\n      <th>461038</th>\n      <td>-0.002001</td>\n      <td>0</td>\n      <td>0</td>\n      <td>0</td>\n      <td>0</td>\n      <td>0</td>\n      <td>0</td>\n      <td>0</td>\n    </tr>\n    <tr>\n      <th>461039</th>\n      <td>-0.002001</td>\n      <td>0</td>\n      <td>0</td>\n      <td>0</td>\n      <td>0</td>\n      <td>0</td>\n      <td>0</td>\n      <td>0</td>\n    </tr>\n    <tr>\n      <th>461040</th>\n      <td>-0.002001</td>\n      <td>0</td>\n      <td>0</td>\n      <td>0</td>\n      <td>0</td>\n      <td>0</td>\n      <td>0</td>\n      <td>0</td>\n    </tr>\n    <tr>\n      <th>461041</th>\n      <td>-0.002001</td>\n      <td>0</td>\n      <td>0</td>\n      <td>0</td>\n      <td>0</td>\n      <td>0</td>\n      <td>0</td>\n      <td>0</td>\n    </tr>\n    <tr>\n      <th>461042</th>\n      <td>-0.002001</td>\n      <td>0</td>\n      <td>0</td>\n      <td>0</td>\n      <td>0</td>\n      <td>0</td>\n      <td>0</td>\n      <td>0</td>\n    </tr>\n  </tbody>\n</table>\n<p>461043 rows × 8 columns</p>\n</div>"
     },
     "execution_count": 13,
     "metadata": {},
     "output_type": "execute_result"
    }
   ],
   "source": [
    "dns_data['dns_rejected'] = dns_data['dns_rejected'].astype('category').cat.codes\n",
    "dns_data"
   ],
   "metadata": {
    "collapsed": false,
    "pycharm": {
     "name": "#%%\n"
    }
   }
  },
  {
   "cell_type": "code",
   "execution_count": 14,
   "outputs": [
    {
     "data": {
      "text/plain": "       ssl_version ssl_cipher ssl_resumed ssl_established ssl_subject  \\\n0                -          -           -               -           -   \n1                -          -           -               -           -   \n2                -          -           -               -           -   \n3                -          -           -               -           -   \n4                -          -           -               -           -   \n...            ...        ...         ...             ...         ...   \n461038           -          -           -               -           -   \n461039           -          -           -               -           -   \n461040           -          -           -               -           -   \n461041           -          -           -               -           -   \n461042           -          -           -               -           -   \n\n       ssl_issuer  \n0               -  \n1               -  \n2               -  \n3               -  \n4               -  \n...           ...  \n461038          -  \n461039          -  \n461040          -  \n461041          -  \n461042          -  \n\n[461043 rows x 6 columns]",
      "text/html": "<div>\n<style scoped>\n    .dataframe tbody tr th:only-of-type {\n        vertical-align: middle;\n    }\n\n    .dataframe tbody tr th {\n        vertical-align: top;\n    }\n\n    .dataframe thead th {\n        text-align: right;\n    }\n</style>\n<table border=\"1\" class=\"dataframe\">\n  <thead>\n    <tr style=\"text-align: right;\">\n      <th></th>\n      <th>ssl_version</th>\n      <th>ssl_cipher</th>\n      <th>ssl_resumed</th>\n      <th>ssl_established</th>\n      <th>ssl_subject</th>\n      <th>ssl_issuer</th>\n    </tr>\n  </thead>\n  <tbody>\n    <tr>\n      <th>0</th>\n      <td>-</td>\n      <td>-</td>\n      <td>-</td>\n      <td>-</td>\n      <td>-</td>\n      <td>-</td>\n    </tr>\n    <tr>\n      <th>1</th>\n      <td>-</td>\n      <td>-</td>\n      <td>-</td>\n      <td>-</td>\n      <td>-</td>\n      <td>-</td>\n    </tr>\n    <tr>\n      <th>2</th>\n      <td>-</td>\n      <td>-</td>\n      <td>-</td>\n      <td>-</td>\n      <td>-</td>\n      <td>-</td>\n    </tr>\n    <tr>\n      <th>3</th>\n      <td>-</td>\n      <td>-</td>\n      <td>-</td>\n      <td>-</td>\n      <td>-</td>\n      <td>-</td>\n    </tr>\n    <tr>\n      <th>4</th>\n      <td>-</td>\n      <td>-</td>\n      <td>-</td>\n      <td>-</td>\n      <td>-</td>\n      <td>-</td>\n    </tr>\n    <tr>\n      <th>...</th>\n      <td>...</td>\n      <td>...</td>\n      <td>...</td>\n      <td>...</td>\n      <td>...</td>\n      <td>...</td>\n    </tr>\n    <tr>\n      <th>461038</th>\n      <td>-</td>\n      <td>-</td>\n      <td>-</td>\n      <td>-</td>\n      <td>-</td>\n      <td>-</td>\n    </tr>\n    <tr>\n      <th>461039</th>\n      <td>-</td>\n      <td>-</td>\n      <td>-</td>\n      <td>-</td>\n      <td>-</td>\n      <td>-</td>\n    </tr>\n    <tr>\n      <th>461040</th>\n      <td>-</td>\n      <td>-</td>\n      <td>-</td>\n      <td>-</td>\n      <td>-</td>\n      <td>-</td>\n    </tr>\n    <tr>\n      <th>461041</th>\n      <td>-</td>\n      <td>-</td>\n      <td>-</td>\n      <td>-</td>\n      <td>-</td>\n      <td>-</td>\n    </tr>\n    <tr>\n      <th>461042</th>\n      <td>-</td>\n      <td>-</td>\n      <td>-</td>\n      <td>-</td>\n      <td>-</td>\n      <td>-</td>\n    </tr>\n  </tbody>\n</table>\n<p>461043 rows × 6 columns</p>\n</div>"
     },
     "execution_count": 14,
     "metadata": {},
     "output_type": "execute_result"
    }
   ],
   "source": [
    "ssl_data = df[df.columns[24:30]].copy()\n",
    "ssl_data"
   ],
   "metadata": {
    "collapsed": false,
    "pycharm": {
     "name": "#%%\n"
    }
   }
  },
  {
   "cell_type": "code",
   "execution_count": 15,
   "outputs": [
    {
     "data": {
      "text/plain": "        ssl_version ssl_cipher ssl_resumed ssl_established ssl_subject  \\\n0                 0          -           -               -           -   \n1                 0          -           -               -           -   \n2                 0          -           -               -           -   \n3                 0          -           -               -           -   \n4                 0          -           -               -           -   \n...             ...        ...         ...             ...         ...   \n461038            0          -           -               -           -   \n461039            0          -           -               -           -   \n461040            0          -           -               -           -   \n461041            0          -           -               -           -   \n461042            0          -           -               -           -   \n\n       ssl_issuer  \n0               -  \n1               -  \n2               -  \n3               -  \n4               -  \n...           ...  \n461038          -  \n461039          -  \n461040          -  \n461041          -  \n461042          -  \n\n[461043 rows x 6 columns]",
      "text/html": "<div>\n<style scoped>\n    .dataframe tbody tr th:only-of-type {\n        vertical-align: middle;\n    }\n\n    .dataframe tbody tr th {\n        vertical-align: top;\n    }\n\n    .dataframe thead th {\n        text-align: right;\n    }\n</style>\n<table border=\"1\" class=\"dataframe\">\n  <thead>\n    <tr style=\"text-align: right;\">\n      <th></th>\n      <th>ssl_version</th>\n      <th>ssl_cipher</th>\n      <th>ssl_resumed</th>\n      <th>ssl_established</th>\n      <th>ssl_subject</th>\n      <th>ssl_issuer</th>\n    </tr>\n  </thead>\n  <tbody>\n    <tr>\n      <th>0</th>\n      <td>0</td>\n      <td>-</td>\n      <td>-</td>\n      <td>-</td>\n      <td>-</td>\n      <td>-</td>\n    </tr>\n    <tr>\n      <th>1</th>\n      <td>0</td>\n      <td>-</td>\n      <td>-</td>\n      <td>-</td>\n      <td>-</td>\n      <td>-</td>\n    </tr>\n    <tr>\n      <th>2</th>\n      <td>0</td>\n      <td>-</td>\n      <td>-</td>\n      <td>-</td>\n      <td>-</td>\n      <td>-</td>\n    </tr>\n    <tr>\n      <th>3</th>\n      <td>0</td>\n      <td>-</td>\n      <td>-</td>\n      <td>-</td>\n      <td>-</td>\n      <td>-</td>\n    </tr>\n    <tr>\n      <th>4</th>\n      <td>0</td>\n      <td>-</td>\n      <td>-</td>\n      <td>-</td>\n      <td>-</td>\n      <td>-</td>\n    </tr>\n    <tr>\n      <th>...</th>\n      <td>...</td>\n      <td>...</td>\n      <td>...</td>\n      <td>...</td>\n      <td>...</td>\n      <td>...</td>\n    </tr>\n    <tr>\n      <th>461038</th>\n      <td>0</td>\n      <td>-</td>\n      <td>-</td>\n      <td>-</td>\n      <td>-</td>\n      <td>-</td>\n    </tr>\n    <tr>\n      <th>461039</th>\n      <td>0</td>\n      <td>-</td>\n      <td>-</td>\n      <td>-</td>\n      <td>-</td>\n      <td>-</td>\n    </tr>\n    <tr>\n      <th>461040</th>\n      <td>0</td>\n      <td>-</td>\n      <td>-</td>\n      <td>-</td>\n      <td>-</td>\n      <td>-</td>\n    </tr>\n    <tr>\n      <th>461041</th>\n      <td>0</td>\n      <td>-</td>\n      <td>-</td>\n      <td>-</td>\n      <td>-</td>\n      <td>-</td>\n    </tr>\n    <tr>\n      <th>461042</th>\n      <td>0</td>\n      <td>-</td>\n      <td>-</td>\n      <td>-</td>\n      <td>-</td>\n      <td>-</td>\n    </tr>\n  </tbody>\n</table>\n<p>461043 rows × 6 columns</p>\n</div>"
     },
     "execution_count": 15,
     "metadata": {},
     "output_type": "execute_result"
    }
   ],
   "source": [
    "ssl_data['ssl_version'] = ssl_data['ssl_version'].astype('category').cat.codes\n",
    "ssl_data"
   ],
   "metadata": {
    "collapsed": false,
    "pycharm": {
     "name": "#%%\n"
    }
   }
  },
  {
   "cell_type": "code",
   "execution_count": 16,
   "outputs": [
    {
     "data": {
      "text/plain": "        ssl_version  ssl_cipher ssl_resumed ssl_established ssl_subject  \\\n0                 0           0           -               -           -   \n1                 0           0           -               -           -   \n2                 0           0           -               -           -   \n3                 0           0           -               -           -   \n4                 0           0           -               -           -   \n...             ...         ...         ...             ...         ...   \n461038            0           0           -               -           -   \n461039            0           0           -               -           -   \n461040            0           0           -               -           -   \n461041            0           0           -               -           -   \n461042            0           0           -               -           -   \n\n       ssl_issuer  \n0               -  \n1               -  \n2               -  \n3               -  \n4               -  \n...           ...  \n461038          -  \n461039          -  \n461040          -  \n461041          -  \n461042          -  \n\n[461043 rows x 6 columns]",
      "text/html": "<div>\n<style scoped>\n    .dataframe tbody tr th:only-of-type {\n        vertical-align: middle;\n    }\n\n    .dataframe tbody tr th {\n        vertical-align: top;\n    }\n\n    .dataframe thead th {\n        text-align: right;\n    }\n</style>\n<table border=\"1\" class=\"dataframe\">\n  <thead>\n    <tr style=\"text-align: right;\">\n      <th></th>\n      <th>ssl_version</th>\n      <th>ssl_cipher</th>\n      <th>ssl_resumed</th>\n      <th>ssl_established</th>\n      <th>ssl_subject</th>\n      <th>ssl_issuer</th>\n    </tr>\n  </thead>\n  <tbody>\n    <tr>\n      <th>0</th>\n      <td>0</td>\n      <td>0</td>\n      <td>-</td>\n      <td>-</td>\n      <td>-</td>\n      <td>-</td>\n    </tr>\n    <tr>\n      <th>1</th>\n      <td>0</td>\n      <td>0</td>\n      <td>-</td>\n      <td>-</td>\n      <td>-</td>\n      <td>-</td>\n    </tr>\n    <tr>\n      <th>2</th>\n      <td>0</td>\n      <td>0</td>\n      <td>-</td>\n      <td>-</td>\n      <td>-</td>\n      <td>-</td>\n    </tr>\n    <tr>\n      <th>3</th>\n      <td>0</td>\n      <td>0</td>\n      <td>-</td>\n      <td>-</td>\n      <td>-</td>\n      <td>-</td>\n    </tr>\n    <tr>\n      <th>4</th>\n      <td>0</td>\n      <td>0</td>\n      <td>-</td>\n      <td>-</td>\n      <td>-</td>\n      <td>-</td>\n    </tr>\n    <tr>\n      <th>...</th>\n      <td>...</td>\n      <td>...</td>\n      <td>...</td>\n      <td>...</td>\n      <td>...</td>\n      <td>...</td>\n    </tr>\n    <tr>\n      <th>461038</th>\n      <td>0</td>\n      <td>0</td>\n      <td>-</td>\n      <td>-</td>\n      <td>-</td>\n      <td>-</td>\n    </tr>\n    <tr>\n      <th>461039</th>\n      <td>0</td>\n      <td>0</td>\n      <td>-</td>\n      <td>-</td>\n      <td>-</td>\n      <td>-</td>\n    </tr>\n    <tr>\n      <th>461040</th>\n      <td>0</td>\n      <td>0</td>\n      <td>-</td>\n      <td>-</td>\n      <td>-</td>\n      <td>-</td>\n    </tr>\n    <tr>\n      <th>461041</th>\n      <td>0</td>\n      <td>0</td>\n      <td>-</td>\n      <td>-</td>\n      <td>-</td>\n      <td>-</td>\n    </tr>\n    <tr>\n      <th>461042</th>\n      <td>0</td>\n      <td>0</td>\n      <td>-</td>\n      <td>-</td>\n      <td>-</td>\n      <td>-</td>\n    </tr>\n  </tbody>\n</table>\n<p>461043 rows × 6 columns</p>\n</div>"
     },
     "execution_count": 16,
     "metadata": {},
     "output_type": "execute_result"
    }
   ],
   "source": [
    "ssl_data['ssl_cipher'] = ssl_data['ssl_cipher'].astype('category').cat.codes\n",
    "ssl_data"
   ],
   "metadata": {
    "collapsed": false,
    "pycharm": {
     "name": "#%%\n"
    }
   }
  },
  {
   "cell_type": "code",
   "execution_count": 17,
   "outputs": [
    {
     "data": {
      "text/plain": "        ssl_version  ssl_cipher  ssl_resumed ssl_established ssl_subject  \\\n0                 0           0            0               -           -   \n1                 0           0            0               -           -   \n2                 0           0            0               -           -   \n3                 0           0            0               -           -   \n4                 0           0            0               -           -   \n...             ...         ...          ...             ...         ...   \n461038            0           0            0               -           -   \n461039            0           0            0               -           -   \n461040            0           0            0               -           -   \n461041            0           0            0               -           -   \n461042            0           0            0               -           -   \n\n       ssl_issuer  \n0               -  \n1               -  \n2               -  \n3               -  \n4               -  \n...           ...  \n461038          -  \n461039          -  \n461040          -  \n461041          -  \n461042          -  \n\n[461043 rows x 6 columns]",
      "text/html": "<div>\n<style scoped>\n    .dataframe tbody tr th:only-of-type {\n        vertical-align: middle;\n    }\n\n    .dataframe tbody tr th {\n        vertical-align: top;\n    }\n\n    .dataframe thead th {\n        text-align: right;\n    }\n</style>\n<table border=\"1\" class=\"dataframe\">\n  <thead>\n    <tr style=\"text-align: right;\">\n      <th></th>\n      <th>ssl_version</th>\n      <th>ssl_cipher</th>\n      <th>ssl_resumed</th>\n      <th>ssl_established</th>\n      <th>ssl_subject</th>\n      <th>ssl_issuer</th>\n    </tr>\n  </thead>\n  <tbody>\n    <tr>\n      <th>0</th>\n      <td>0</td>\n      <td>0</td>\n      <td>0</td>\n      <td>-</td>\n      <td>-</td>\n      <td>-</td>\n    </tr>\n    <tr>\n      <th>1</th>\n      <td>0</td>\n      <td>0</td>\n      <td>0</td>\n      <td>-</td>\n      <td>-</td>\n      <td>-</td>\n    </tr>\n    <tr>\n      <th>2</th>\n      <td>0</td>\n      <td>0</td>\n      <td>0</td>\n      <td>-</td>\n      <td>-</td>\n      <td>-</td>\n    </tr>\n    <tr>\n      <th>3</th>\n      <td>0</td>\n      <td>0</td>\n      <td>0</td>\n      <td>-</td>\n      <td>-</td>\n      <td>-</td>\n    </tr>\n    <tr>\n      <th>4</th>\n      <td>0</td>\n      <td>0</td>\n      <td>0</td>\n      <td>-</td>\n      <td>-</td>\n      <td>-</td>\n    </tr>\n    <tr>\n      <th>...</th>\n      <td>...</td>\n      <td>...</td>\n      <td>...</td>\n      <td>...</td>\n      <td>...</td>\n      <td>...</td>\n    </tr>\n    <tr>\n      <th>461038</th>\n      <td>0</td>\n      <td>0</td>\n      <td>0</td>\n      <td>-</td>\n      <td>-</td>\n      <td>-</td>\n    </tr>\n    <tr>\n      <th>461039</th>\n      <td>0</td>\n      <td>0</td>\n      <td>0</td>\n      <td>-</td>\n      <td>-</td>\n      <td>-</td>\n    </tr>\n    <tr>\n      <th>461040</th>\n      <td>0</td>\n      <td>0</td>\n      <td>0</td>\n      <td>-</td>\n      <td>-</td>\n      <td>-</td>\n    </tr>\n    <tr>\n      <th>461041</th>\n      <td>0</td>\n      <td>0</td>\n      <td>0</td>\n      <td>-</td>\n      <td>-</td>\n      <td>-</td>\n    </tr>\n    <tr>\n      <th>461042</th>\n      <td>0</td>\n      <td>0</td>\n      <td>0</td>\n      <td>-</td>\n      <td>-</td>\n      <td>-</td>\n    </tr>\n  </tbody>\n</table>\n<p>461043 rows × 6 columns</p>\n</div>"
     },
     "execution_count": 17,
     "metadata": {},
     "output_type": "execute_result"
    }
   ],
   "source": [
    "ssl_data['ssl_resumed'] = ssl_data['ssl_resumed'].astype('category').cat.codes\n",
    "ssl_data"
   ],
   "metadata": {
    "collapsed": false,
    "pycharm": {
     "name": "#%%\n"
    }
   }
  },
  {
   "cell_type": "code",
   "execution_count": 18,
   "outputs": [
    {
     "data": {
      "text/plain": "        ssl_version  ssl_cipher  ssl_resumed  ssl_established ssl_subject  \\\n0                 0           0            0                0           -   \n1                 0           0            0                0           -   \n2                 0           0            0                0           -   \n3                 0           0            0                0           -   \n4                 0           0            0                0           -   \n...             ...         ...          ...              ...         ...   \n461038            0           0            0                0           -   \n461039            0           0            0                0           -   \n461040            0           0            0                0           -   \n461041            0           0            0                0           -   \n461042            0           0            0                0           -   \n\n       ssl_issuer  \n0               -  \n1               -  \n2               -  \n3               -  \n4               -  \n...           ...  \n461038          -  \n461039          -  \n461040          -  \n461041          -  \n461042          -  \n\n[461043 rows x 6 columns]",
      "text/html": "<div>\n<style scoped>\n    .dataframe tbody tr th:only-of-type {\n        vertical-align: middle;\n    }\n\n    .dataframe tbody tr th {\n        vertical-align: top;\n    }\n\n    .dataframe thead th {\n        text-align: right;\n    }\n</style>\n<table border=\"1\" class=\"dataframe\">\n  <thead>\n    <tr style=\"text-align: right;\">\n      <th></th>\n      <th>ssl_version</th>\n      <th>ssl_cipher</th>\n      <th>ssl_resumed</th>\n      <th>ssl_established</th>\n      <th>ssl_subject</th>\n      <th>ssl_issuer</th>\n    </tr>\n  </thead>\n  <tbody>\n    <tr>\n      <th>0</th>\n      <td>0</td>\n      <td>0</td>\n      <td>0</td>\n      <td>0</td>\n      <td>-</td>\n      <td>-</td>\n    </tr>\n    <tr>\n      <th>1</th>\n      <td>0</td>\n      <td>0</td>\n      <td>0</td>\n      <td>0</td>\n      <td>-</td>\n      <td>-</td>\n    </tr>\n    <tr>\n      <th>2</th>\n      <td>0</td>\n      <td>0</td>\n      <td>0</td>\n      <td>0</td>\n      <td>-</td>\n      <td>-</td>\n    </tr>\n    <tr>\n      <th>3</th>\n      <td>0</td>\n      <td>0</td>\n      <td>0</td>\n      <td>0</td>\n      <td>-</td>\n      <td>-</td>\n    </tr>\n    <tr>\n      <th>4</th>\n      <td>0</td>\n      <td>0</td>\n      <td>0</td>\n      <td>0</td>\n      <td>-</td>\n      <td>-</td>\n    </tr>\n    <tr>\n      <th>...</th>\n      <td>...</td>\n      <td>...</td>\n      <td>...</td>\n      <td>...</td>\n      <td>...</td>\n      <td>...</td>\n    </tr>\n    <tr>\n      <th>461038</th>\n      <td>0</td>\n      <td>0</td>\n      <td>0</td>\n      <td>0</td>\n      <td>-</td>\n      <td>-</td>\n    </tr>\n    <tr>\n      <th>461039</th>\n      <td>0</td>\n      <td>0</td>\n      <td>0</td>\n      <td>0</td>\n      <td>-</td>\n      <td>-</td>\n    </tr>\n    <tr>\n      <th>461040</th>\n      <td>0</td>\n      <td>0</td>\n      <td>0</td>\n      <td>0</td>\n      <td>-</td>\n      <td>-</td>\n    </tr>\n    <tr>\n      <th>461041</th>\n      <td>0</td>\n      <td>0</td>\n      <td>0</td>\n      <td>0</td>\n      <td>-</td>\n      <td>-</td>\n    </tr>\n    <tr>\n      <th>461042</th>\n      <td>0</td>\n      <td>0</td>\n      <td>0</td>\n      <td>0</td>\n      <td>-</td>\n      <td>-</td>\n    </tr>\n  </tbody>\n</table>\n<p>461043 rows × 6 columns</p>\n</div>"
     },
     "execution_count": 18,
     "metadata": {},
     "output_type": "execute_result"
    }
   ],
   "source": [
    "ssl_data['ssl_established'] = ssl_data['ssl_established'].astype('category').cat.codes\n",
    "ssl_data"
   ],
   "metadata": {
    "collapsed": false,
    "pycharm": {
     "name": "#%%\n"
    }
   }
  },
  {
   "cell_type": "code",
   "execution_count": 19,
   "outputs": [
    {
     "data": {
      "text/plain": "        ssl_version  ssl_cipher  ssl_resumed  ssl_established  ssl_subject  \\\n0                 0           0            0                0    -0.002001   \n1                 0           0            0                0    -0.002001   \n2                 0           0            0                0    -0.002001   \n3                 0           0            0                0    -0.002001   \n4                 0           0            0                0    -0.002001   \n...             ...         ...          ...              ...          ...   \n461038            0           0            0                0    -0.002001   \n461039            0           0            0                0    -0.002001   \n461040            0           0            0                0    -0.002001   \n461041            0           0            0                0    -0.002001   \n461042            0           0            0                0    -0.002001   \n\n       ssl_issuer  \n0               -  \n1               -  \n2               -  \n3               -  \n4               -  \n...           ...  \n461038          -  \n461039          -  \n461040          -  \n461041          -  \n461042          -  \n\n[461043 rows x 6 columns]",
      "text/html": "<div>\n<style scoped>\n    .dataframe tbody tr th:only-of-type {\n        vertical-align: middle;\n    }\n\n    .dataframe tbody tr th {\n        vertical-align: top;\n    }\n\n    .dataframe thead th {\n        text-align: right;\n    }\n</style>\n<table border=\"1\" class=\"dataframe\">\n  <thead>\n    <tr style=\"text-align: right;\">\n      <th></th>\n      <th>ssl_version</th>\n      <th>ssl_cipher</th>\n      <th>ssl_resumed</th>\n      <th>ssl_established</th>\n      <th>ssl_subject</th>\n      <th>ssl_issuer</th>\n    </tr>\n  </thead>\n  <tbody>\n    <tr>\n      <th>0</th>\n      <td>0</td>\n      <td>0</td>\n      <td>0</td>\n      <td>0</td>\n      <td>-0.002001</td>\n      <td>-</td>\n    </tr>\n    <tr>\n      <th>1</th>\n      <td>0</td>\n      <td>0</td>\n      <td>0</td>\n      <td>0</td>\n      <td>-0.002001</td>\n      <td>-</td>\n    </tr>\n    <tr>\n      <th>2</th>\n      <td>0</td>\n      <td>0</td>\n      <td>0</td>\n      <td>0</td>\n      <td>-0.002001</td>\n      <td>-</td>\n    </tr>\n    <tr>\n      <th>3</th>\n      <td>0</td>\n      <td>0</td>\n      <td>0</td>\n      <td>0</td>\n      <td>-0.002001</td>\n      <td>-</td>\n    </tr>\n    <tr>\n      <th>4</th>\n      <td>0</td>\n      <td>0</td>\n      <td>0</td>\n      <td>0</td>\n      <td>-0.002001</td>\n      <td>-</td>\n    </tr>\n    <tr>\n      <th>...</th>\n      <td>...</td>\n      <td>...</td>\n      <td>...</td>\n      <td>...</td>\n      <td>...</td>\n      <td>...</td>\n    </tr>\n    <tr>\n      <th>461038</th>\n      <td>0</td>\n      <td>0</td>\n      <td>0</td>\n      <td>0</td>\n      <td>-0.002001</td>\n      <td>-</td>\n    </tr>\n    <tr>\n      <th>461039</th>\n      <td>0</td>\n      <td>0</td>\n      <td>0</td>\n      <td>0</td>\n      <td>-0.002001</td>\n      <td>-</td>\n    </tr>\n    <tr>\n      <th>461040</th>\n      <td>0</td>\n      <td>0</td>\n      <td>0</td>\n      <td>0</td>\n      <td>-0.002001</td>\n      <td>-</td>\n    </tr>\n    <tr>\n      <th>461041</th>\n      <td>0</td>\n      <td>0</td>\n      <td>0</td>\n      <td>0</td>\n      <td>-0.002001</td>\n      <td>-</td>\n    </tr>\n    <tr>\n      <th>461042</th>\n      <td>0</td>\n      <td>0</td>\n      <td>0</td>\n      <td>0</td>\n      <td>-0.002001</td>\n      <td>-</td>\n    </tr>\n  </tbody>\n</table>\n<p>461043 rows × 6 columns</p>\n</div>"
     },
     "execution_count": 19,
     "metadata": {},
     "output_type": "execute_result"
    }
   ],
   "source": [
    "ssl_data['ssl_subject'] = ssl_data['ssl_subject'].apply(convert_text_numeric)\n",
    "ssl_data"
   ],
   "metadata": {
    "collapsed": false,
    "pycharm": {
     "name": "#%%\n"
    }
   }
  },
  {
   "cell_type": "code",
   "execution_count": 20,
   "outputs": [
    {
     "data": {
      "text/plain": "        ssl_version  ssl_cipher  ssl_resumed  ssl_established  ssl_subject  \\\n0                 0           0            0                0    -0.002001   \n1                 0           0            0                0    -0.002001   \n2                 0           0            0                0    -0.002001   \n3                 0           0            0                0    -0.002001   \n4                 0           0            0                0    -0.002001   \n...             ...         ...          ...              ...          ...   \n461038            0           0            0                0    -0.002001   \n461039            0           0            0                0    -0.002001   \n461040            0           0            0                0    -0.002001   \n461041            0           0            0                0    -0.002001   \n461042            0           0            0                0    -0.002001   \n\n        ssl_issuer  \n0        -0.002001  \n1        -0.002001  \n2        -0.002001  \n3        -0.002001  \n4        -0.002001  \n...            ...  \n461038   -0.002001  \n461039   -0.002001  \n461040   -0.002001  \n461041   -0.002001  \n461042   -0.002001  \n\n[461043 rows x 6 columns]",
      "text/html": "<div>\n<style scoped>\n    .dataframe tbody tr th:only-of-type {\n        vertical-align: middle;\n    }\n\n    .dataframe tbody tr th {\n        vertical-align: top;\n    }\n\n    .dataframe thead th {\n        text-align: right;\n    }\n</style>\n<table border=\"1\" class=\"dataframe\">\n  <thead>\n    <tr style=\"text-align: right;\">\n      <th></th>\n      <th>ssl_version</th>\n      <th>ssl_cipher</th>\n      <th>ssl_resumed</th>\n      <th>ssl_established</th>\n      <th>ssl_subject</th>\n      <th>ssl_issuer</th>\n    </tr>\n  </thead>\n  <tbody>\n    <tr>\n      <th>0</th>\n      <td>0</td>\n      <td>0</td>\n      <td>0</td>\n      <td>0</td>\n      <td>-0.002001</td>\n      <td>-0.002001</td>\n    </tr>\n    <tr>\n      <th>1</th>\n      <td>0</td>\n      <td>0</td>\n      <td>0</td>\n      <td>0</td>\n      <td>-0.002001</td>\n      <td>-0.002001</td>\n    </tr>\n    <tr>\n      <th>2</th>\n      <td>0</td>\n      <td>0</td>\n      <td>0</td>\n      <td>0</td>\n      <td>-0.002001</td>\n      <td>-0.002001</td>\n    </tr>\n    <tr>\n      <th>3</th>\n      <td>0</td>\n      <td>0</td>\n      <td>0</td>\n      <td>0</td>\n      <td>-0.002001</td>\n      <td>-0.002001</td>\n    </tr>\n    <tr>\n      <th>4</th>\n      <td>0</td>\n      <td>0</td>\n      <td>0</td>\n      <td>0</td>\n      <td>-0.002001</td>\n      <td>-0.002001</td>\n    </tr>\n    <tr>\n      <th>...</th>\n      <td>...</td>\n      <td>...</td>\n      <td>...</td>\n      <td>...</td>\n      <td>...</td>\n      <td>...</td>\n    </tr>\n    <tr>\n      <th>461038</th>\n      <td>0</td>\n      <td>0</td>\n      <td>0</td>\n      <td>0</td>\n      <td>-0.002001</td>\n      <td>-0.002001</td>\n    </tr>\n    <tr>\n      <th>461039</th>\n      <td>0</td>\n      <td>0</td>\n      <td>0</td>\n      <td>0</td>\n      <td>-0.002001</td>\n      <td>-0.002001</td>\n    </tr>\n    <tr>\n      <th>461040</th>\n      <td>0</td>\n      <td>0</td>\n      <td>0</td>\n      <td>0</td>\n      <td>-0.002001</td>\n      <td>-0.002001</td>\n    </tr>\n    <tr>\n      <th>461041</th>\n      <td>0</td>\n      <td>0</td>\n      <td>0</td>\n      <td>0</td>\n      <td>-0.002001</td>\n      <td>-0.002001</td>\n    </tr>\n    <tr>\n      <th>461042</th>\n      <td>0</td>\n      <td>0</td>\n      <td>0</td>\n      <td>0</td>\n      <td>-0.002001</td>\n      <td>-0.002001</td>\n    </tr>\n  </tbody>\n</table>\n<p>461043 rows × 6 columns</p>\n</div>"
     },
     "execution_count": 20,
     "metadata": {},
     "output_type": "execute_result"
    }
   ],
   "source": [
    "ssl_data['ssl_issuer'] = ssl_data['ssl_issuer'].apply(convert_text_numeric)\n",
    "ssl_data"
   ],
   "metadata": {
    "collapsed": false,
    "pycharm": {
     "name": "#%%\n"
    }
   }
  },
  {
   "cell_type": "code",
   "execution_count": 21,
   "outputs": [
    {
     "data": {
      "text/plain": "       http_trans_depth http_method http_uri http_version  \\\n0                     -           -        -            -   \n1                     -           -        -            -   \n2                     -           -        -            -   \n3                     -           -        -            -   \n4                     -           -        -            -   \n...                 ...         ...      ...          ...   \n461038                -           -        -            -   \n461039                -           -        -            -   \n461040                -           -        -            -   \n461041                -           -        -            -   \n461042                -           -        -            -   \n\n        http_request_body_len  http_response_body_len  http_status_code  \\\n0                           0                       0                 0   \n1                           0                       0                 0   \n2                           0                       0                 0   \n3                           0                       0                 0   \n4                           0                       0                 0   \n...                       ...                     ...               ...   \n461038                      0                       0                 0   \n461039                      0                       0                 0   \n461040                      0                       0                 0   \n461041                      0                       0                 0   \n461042                      0                       0                 0   \n\n       http_user_agent http_orig_mime_types http_resp_mime_types  \n0                    -                    -                    -  \n1                    -                    -                    -  \n2                    -                    -                    -  \n3                    -                    -                    -  \n4                    -                    -                    -  \n...                ...                  ...                  ...  \n461038               -                    -                    -  \n461039               -                    -                    -  \n461040               -                    -                    -  \n461041               -                    -                    -  \n461042               -                    -                    -  \n\n[461043 rows x 10 columns]",
      "text/html": "<div>\n<style scoped>\n    .dataframe tbody tr th:only-of-type {\n        vertical-align: middle;\n    }\n\n    .dataframe tbody tr th {\n        vertical-align: top;\n    }\n\n    .dataframe thead th {\n        text-align: right;\n    }\n</style>\n<table border=\"1\" class=\"dataframe\">\n  <thead>\n    <tr style=\"text-align: right;\">\n      <th></th>\n      <th>http_trans_depth</th>\n      <th>http_method</th>\n      <th>http_uri</th>\n      <th>http_version</th>\n      <th>http_request_body_len</th>\n      <th>http_response_body_len</th>\n      <th>http_status_code</th>\n      <th>http_user_agent</th>\n      <th>http_orig_mime_types</th>\n      <th>http_resp_mime_types</th>\n    </tr>\n  </thead>\n  <tbody>\n    <tr>\n      <th>0</th>\n      <td>-</td>\n      <td>-</td>\n      <td>-</td>\n      <td>-</td>\n      <td>0</td>\n      <td>0</td>\n      <td>0</td>\n      <td>-</td>\n      <td>-</td>\n      <td>-</td>\n    </tr>\n    <tr>\n      <th>1</th>\n      <td>-</td>\n      <td>-</td>\n      <td>-</td>\n      <td>-</td>\n      <td>0</td>\n      <td>0</td>\n      <td>0</td>\n      <td>-</td>\n      <td>-</td>\n      <td>-</td>\n    </tr>\n    <tr>\n      <th>2</th>\n      <td>-</td>\n      <td>-</td>\n      <td>-</td>\n      <td>-</td>\n      <td>0</td>\n      <td>0</td>\n      <td>0</td>\n      <td>-</td>\n      <td>-</td>\n      <td>-</td>\n    </tr>\n    <tr>\n      <th>3</th>\n      <td>-</td>\n      <td>-</td>\n      <td>-</td>\n      <td>-</td>\n      <td>0</td>\n      <td>0</td>\n      <td>0</td>\n      <td>-</td>\n      <td>-</td>\n      <td>-</td>\n    </tr>\n    <tr>\n      <th>4</th>\n      <td>-</td>\n      <td>-</td>\n      <td>-</td>\n      <td>-</td>\n      <td>0</td>\n      <td>0</td>\n      <td>0</td>\n      <td>-</td>\n      <td>-</td>\n      <td>-</td>\n    </tr>\n    <tr>\n      <th>...</th>\n      <td>...</td>\n      <td>...</td>\n      <td>...</td>\n      <td>...</td>\n      <td>...</td>\n      <td>...</td>\n      <td>...</td>\n      <td>...</td>\n      <td>...</td>\n      <td>...</td>\n    </tr>\n    <tr>\n      <th>461038</th>\n      <td>-</td>\n      <td>-</td>\n      <td>-</td>\n      <td>-</td>\n      <td>0</td>\n      <td>0</td>\n      <td>0</td>\n      <td>-</td>\n      <td>-</td>\n      <td>-</td>\n    </tr>\n    <tr>\n      <th>461039</th>\n      <td>-</td>\n      <td>-</td>\n      <td>-</td>\n      <td>-</td>\n      <td>0</td>\n      <td>0</td>\n      <td>0</td>\n      <td>-</td>\n      <td>-</td>\n      <td>-</td>\n    </tr>\n    <tr>\n      <th>461040</th>\n      <td>-</td>\n      <td>-</td>\n      <td>-</td>\n      <td>-</td>\n      <td>0</td>\n      <td>0</td>\n      <td>0</td>\n      <td>-</td>\n      <td>-</td>\n      <td>-</td>\n    </tr>\n    <tr>\n      <th>461041</th>\n      <td>-</td>\n      <td>-</td>\n      <td>-</td>\n      <td>-</td>\n      <td>0</td>\n      <td>0</td>\n      <td>0</td>\n      <td>-</td>\n      <td>-</td>\n      <td>-</td>\n    </tr>\n    <tr>\n      <th>461042</th>\n      <td>-</td>\n      <td>-</td>\n      <td>-</td>\n      <td>-</td>\n      <td>0</td>\n      <td>0</td>\n      <td>0</td>\n      <td>-</td>\n      <td>-</td>\n      <td>-</td>\n    </tr>\n  </tbody>\n</table>\n<p>461043 rows × 10 columns</p>\n</div>"
     },
     "execution_count": 21,
     "metadata": {},
     "output_type": "execute_result"
    }
   ],
   "source": [
    "http_data = df[df.columns[30:40]].copy()\n",
    "http_data"
   ],
   "metadata": {
    "collapsed": false,
    "pycharm": {
     "name": "#%%\n"
    }
   }
  },
  {
   "cell_type": "code",
   "execution_count": 22,
   "outputs": [
    {
     "data": {
      "text/plain": "        http_trans_depth http_method http_uri http_version  \\\n0                      0           -        -            -   \n1                      0           -        -            -   \n2                      0           -        -            -   \n3                      0           -        -            -   \n4                      0           -        -            -   \n...                  ...         ...      ...          ...   \n461038                 0           -        -            -   \n461039                 0           -        -            -   \n461040                 0           -        -            -   \n461041                 0           -        -            -   \n461042                 0           -        -            -   \n\n        http_request_body_len  http_response_body_len  http_status_code  \\\n0                           0                       0                 0   \n1                           0                       0                 0   \n2                           0                       0                 0   \n3                           0                       0                 0   \n4                           0                       0                 0   \n...                       ...                     ...               ...   \n461038                      0                       0                 0   \n461039                      0                       0                 0   \n461040                      0                       0                 0   \n461041                      0                       0                 0   \n461042                      0                       0                 0   \n\n       http_user_agent http_orig_mime_types http_resp_mime_types  \n0                    -                    -                    -  \n1                    -                    -                    -  \n2                    -                    -                    -  \n3                    -                    -                    -  \n4                    -                    -                    -  \n...                ...                  ...                  ...  \n461038               -                    -                    -  \n461039               -                    -                    -  \n461040               -                    -                    -  \n461041               -                    -                    -  \n461042               -                    -                    -  \n\n[461043 rows x 10 columns]",
      "text/html": "<div>\n<style scoped>\n    .dataframe tbody tr th:only-of-type {\n        vertical-align: middle;\n    }\n\n    .dataframe tbody tr th {\n        vertical-align: top;\n    }\n\n    .dataframe thead th {\n        text-align: right;\n    }\n</style>\n<table border=\"1\" class=\"dataframe\">\n  <thead>\n    <tr style=\"text-align: right;\">\n      <th></th>\n      <th>http_trans_depth</th>\n      <th>http_method</th>\n      <th>http_uri</th>\n      <th>http_version</th>\n      <th>http_request_body_len</th>\n      <th>http_response_body_len</th>\n      <th>http_status_code</th>\n      <th>http_user_agent</th>\n      <th>http_orig_mime_types</th>\n      <th>http_resp_mime_types</th>\n    </tr>\n  </thead>\n  <tbody>\n    <tr>\n      <th>0</th>\n      <td>0</td>\n      <td>-</td>\n      <td>-</td>\n      <td>-</td>\n      <td>0</td>\n      <td>0</td>\n      <td>0</td>\n      <td>-</td>\n      <td>-</td>\n      <td>-</td>\n    </tr>\n    <tr>\n      <th>1</th>\n      <td>0</td>\n      <td>-</td>\n      <td>-</td>\n      <td>-</td>\n      <td>0</td>\n      <td>0</td>\n      <td>0</td>\n      <td>-</td>\n      <td>-</td>\n      <td>-</td>\n    </tr>\n    <tr>\n      <th>2</th>\n      <td>0</td>\n      <td>-</td>\n      <td>-</td>\n      <td>-</td>\n      <td>0</td>\n      <td>0</td>\n      <td>0</td>\n      <td>-</td>\n      <td>-</td>\n      <td>-</td>\n    </tr>\n    <tr>\n      <th>3</th>\n      <td>0</td>\n      <td>-</td>\n      <td>-</td>\n      <td>-</td>\n      <td>0</td>\n      <td>0</td>\n      <td>0</td>\n      <td>-</td>\n      <td>-</td>\n      <td>-</td>\n    </tr>\n    <tr>\n      <th>4</th>\n      <td>0</td>\n      <td>-</td>\n      <td>-</td>\n      <td>-</td>\n      <td>0</td>\n      <td>0</td>\n      <td>0</td>\n      <td>-</td>\n      <td>-</td>\n      <td>-</td>\n    </tr>\n    <tr>\n      <th>...</th>\n      <td>...</td>\n      <td>...</td>\n      <td>...</td>\n      <td>...</td>\n      <td>...</td>\n      <td>...</td>\n      <td>...</td>\n      <td>...</td>\n      <td>...</td>\n      <td>...</td>\n    </tr>\n    <tr>\n      <th>461038</th>\n      <td>0</td>\n      <td>-</td>\n      <td>-</td>\n      <td>-</td>\n      <td>0</td>\n      <td>0</td>\n      <td>0</td>\n      <td>-</td>\n      <td>-</td>\n      <td>-</td>\n    </tr>\n    <tr>\n      <th>461039</th>\n      <td>0</td>\n      <td>-</td>\n      <td>-</td>\n      <td>-</td>\n      <td>0</td>\n      <td>0</td>\n      <td>0</td>\n      <td>-</td>\n      <td>-</td>\n      <td>-</td>\n    </tr>\n    <tr>\n      <th>461040</th>\n      <td>0</td>\n      <td>-</td>\n      <td>-</td>\n      <td>-</td>\n      <td>0</td>\n      <td>0</td>\n      <td>0</td>\n      <td>-</td>\n      <td>-</td>\n      <td>-</td>\n    </tr>\n    <tr>\n      <th>461041</th>\n      <td>0</td>\n      <td>-</td>\n      <td>-</td>\n      <td>-</td>\n      <td>0</td>\n      <td>0</td>\n      <td>0</td>\n      <td>-</td>\n      <td>-</td>\n      <td>-</td>\n    </tr>\n    <tr>\n      <th>461042</th>\n      <td>0</td>\n      <td>-</td>\n      <td>-</td>\n      <td>-</td>\n      <td>0</td>\n      <td>0</td>\n      <td>0</td>\n      <td>-</td>\n      <td>-</td>\n      <td>-</td>\n    </tr>\n  </tbody>\n</table>\n<p>461043 rows × 10 columns</p>\n</div>"
     },
     "execution_count": 22,
     "metadata": {},
     "output_type": "execute_result"
    }
   ],
   "source": [
    "http_data['http_trans_depth'] = pd.to_numeric(http_data['http_trans_depth'].replace('-','0'))\n",
    "http_data"
   ],
   "metadata": {
    "collapsed": false,
    "pycharm": {
     "name": "#%%\n"
    }
   }
  },
  {
   "cell_type": "code",
   "execution_count": 23,
   "outputs": [
    {
     "data": {
      "text/plain": "        http_trans_depth  http_method http_uri http_version  \\\n0                      0            0        -            -   \n1                      0            0        -            -   \n2                      0            0        -            -   \n3                      0            0        -            -   \n4                      0            0        -            -   \n...                  ...          ...      ...          ...   \n461038                 0            0        -            -   \n461039                 0            0        -            -   \n461040                 0            0        -            -   \n461041                 0            0        -            -   \n461042                 0            0        -            -   \n\n        http_request_body_len  http_response_body_len  http_status_code  \\\n0                           0                       0                 0   \n1                           0                       0                 0   \n2                           0                       0                 0   \n3                           0                       0                 0   \n4                           0                       0                 0   \n...                       ...                     ...               ...   \n461038                      0                       0                 0   \n461039                      0                       0                 0   \n461040                      0                       0                 0   \n461041                      0                       0                 0   \n461042                      0                       0                 0   \n\n       http_user_agent http_orig_mime_types http_resp_mime_types  \n0                    -                    -                    -  \n1                    -                    -                    -  \n2                    -                    -                    -  \n3                    -                    -                    -  \n4                    -                    -                    -  \n...                ...                  ...                  ...  \n461038               -                    -                    -  \n461039               -                    -                    -  \n461040               -                    -                    -  \n461041               -                    -                    -  \n461042               -                    -                    -  \n\n[461043 rows x 10 columns]",
      "text/html": "<div>\n<style scoped>\n    .dataframe tbody tr th:only-of-type {\n        vertical-align: middle;\n    }\n\n    .dataframe tbody tr th {\n        vertical-align: top;\n    }\n\n    .dataframe thead th {\n        text-align: right;\n    }\n</style>\n<table border=\"1\" class=\"dataframe\">\n  <thead>\n    <tr style=\"text-align: right;\">\n      <th></th>\n      <th>http_trans_depth</th>\n      <th>http_method</th>\n      <th>http_uri</th>\n      <th>http_version</th>\n      <th>http_request_body_len</th>\n      <th>http_response_body_len</th>\n      <th>http_status_code</th>\n      <th>http_user_agent</th>\n      <th>http_orig_mime_types</th>\n      <th>http_resp_mime_types</th>\n    </tr>\n  </thead>\n  <tbody>\n    <tr>\n      <th>0</th>\n      <td>0</td>\n      <td>0</td>\n      <td>-</td>\n      <td>-</td>\n      <td>0</td>\n      <td>0</td>\n      <td>0</td>\n      <td>-</td>\n      <td>-</td>\n      <td>-</td>\n    </tr>\n    <tr>\n      <th>1</th>\n      <td>0</td>\n      <td>0</td>\n      <td>-</td>\n      <td>-</td>\n      <td>0</td>\n      <td>0</td>\n      <td>0</td>\n      <td>-</td>\n      <td>-</td>\n      <td>-</td>\n    </tr>\n    <tr>\n      <th>2</th>\n      <td>0</td>\n      <td>0</td>\n      <td>-</td>\n      <td>-</td>\n      <td>0</td>\n      <td>0</td>\n      <td>0</td>\n      <td>-</td>\n      <td>-</td>\n      <td>-</td>\n    </tr>\n    <tr>\n      <th>3</th>\n      <td>0</td>\n      <td>0</td>\n      <td>-</td>\n      <td>-</td>\n      <td>0</td>\n      <td>0</td>\n      <td>0</td>\n      <td>-</td>\n      <td>-</td>\n      <td>-</td>\n    </tr>\n    <tr>\n      <th>4</th>\n      <td>0</td>\n      <td>0</td>\n      <td>-</td>\n      <td>-</td>\n      <td>0</td>\n      <td>0</td>\n      <td>0</td>\n      <td>-</td>\n      <td>-</td>\n      <td>-</td>\n    </tr>\n    <tr>\n      <th>...</th>\n      <td>...</td>\n      <td>...</td>\n      <td>...</td>\n      <td>...</td>\n      <td>...</td>\n      <td>...</td>\n      <td>...</td>\n      <td>...</td>\n      <td>...</td>\n      <td>...</td>\n    </tr>\n    <tr>\n      <th>461038</th>\n      <td>0</td>\n      <td>0</td>\n      <td>-</td>\n      <td>-</td>\n      <td>0</td>\n      <td>0</td>\n      <td>0</td>\n      <td>-</td>\n      <td>-</td>\n      <td>-</td>\n    </tr>\n    <tr>\n      <th>461039</th>\n      <td>0</td>\n      <td>0</td>\n      <td>-</td>\n      <td>-</td>\n      <td>0</td>\n      <td>0</td>\n      <td>0</td>\n      <td>-</td>\n      <td>-</td>\n      <td>-</td>\n    </tr>\n    <tr>\n      <th>461040</th>\n      <td>0</td>\n      <td>0</td>\n      <td>-</td>\n      <td>-</td>\n      <td>0</td>\n      <td>0</td>\n      <td>0</td>\n      <td>-</td>\n      <td>-</td>\n      <td>-</td>\n    </tr>\n    <tr>\n      <th>461041</th>\n      <td>0</td>\n      <td>0</td>\n      <td>-</td>\n      <td>-</td>\n      <td>0</td>\n      <td>0</td>\n      <td>0</td>\n      <td>-</td>\n      <td>-</td>\n      <td>-</td>\n    </tr>\n    <tr>\n      <th>461042</th>\n      <td>0</td>\n      <td>0</td>\n      <td>-</td>\n      <td>-</td>\n      <td>0</td>\n      <td>0</td>\n      <td>0</td>\n      <td>-</td>\n      <td>-</td>\n      <td>-</td>\n    </tr>\n  </tbody>\n</table>\n<p>461043 rows × 10 columns</p>\n</div>"
     },
     "execution_count": 23,
     "metadata": {},
     "output_type": "execute_result"
    }
   ],
   "source": [
    "http_data['http_method'] = http_data['http_method'].astype('category').cat.codes\n",
    "http_data"
   ],
   "metadata": {
    "collapsed": false,
    "pycharm": {
     "name": "#%%\n"
    }
   }
  },
  {
   "cell_type": "code",
   "execution_count": 24,
   "outputs": [],
   "source": [
    "http_data['http_uri'] = http_data['http_uri'].apply(convert_text_numeric)"
   ],
   "metadata": {
    "collapsed": false,
    "pycharm": {
     "name": "#%%\n"
    }
   }
  },
  {
   "cell_type": "code",
   "execution_count": 25,
   "outputs": [
    {
     "data": {
      "text/plain": "        http_trans_depth  http_method  http_uri  http_version  \\\n0                      0            0 -0.002001             0   \n1                      0            0 -0.002001             0   \n2                      0            0 -0.002001             0   \n3                      0            0 -0.002001             0   \n4                      0            0 -0.002001             0   \n...                  ...          ...       ...           ...   \n461038                 0            0 -0.002001             0   \n461039                 0            0 -0.002001             0   \n461040                 0            0 -0.002001             0   \n461041                 0            0 -0.002001             0   \n461042                 0            0 -0.002001             0   \n\n        http_request_body_len  http_response_body_len  http_status_code  \\\n0                           0                       0                 0   \n1                           0                       0                 0   \n2                           0                       0                 0   \n3                           0                       0                 0   \n4                           0                       0                 0   \n...                       ...                     ...               ...   \n461038                      0                       0                 0   \n461039                      0                       0                 0   \n461040                      0                       0                 0   \n461041                      0                       0                 0   \n461042                      0                       0                 0   \n\n       http_user_agent http_orig_mime_types http_resp_mime_types  \n0                    -                    -                    -  \n1                    -                    -                    -  \n2                    -                    -                    -  \n3                    -                    -                    -  \n4                    -                    -                    -  \n...                ...                  ...                  ...  \n461038               -                    -                    -  \n461039               -                    -                    -  \n461040               -                    -                    -  \n461041               -                    -                    -  \n461042               -                    -                    -  \n\n[461043 rows x 10 columns]",
      "text/html": "<div>\n<style scoped>\n    .dataframe tbody tr th:only-of-type {\n        vertical-align: middle;\n    }\n\n    .dataframe tbody tr th {\n        vertical-align: top;\n    }\n\n    .dataframe thead th {\n        text-align: right;\n    }\n</style>\n<table border=\"1\" class=\"dataframe\">\n  <thead>\n    <tr style=\"text-align: right;\">\n      <th></th>\n      <th>http_trans_depth</th>\n      <th>http_method</th>\n      <th>http_uri</th>\n      <th>http_version</th>\n      <th>http_request_body_len</th>\n      <th>http_response_body_len</th>\n      <th>http_status_code</th>\n      <th>http_user_agent</th>\n      <th>http_orig_mime_types</th>\n      <th>http_resp_mime_types</th>\n    </tr>\n  </thead>\n  <tbody>\n    <tr>\n      <th>0</th>\n      <td>0</td>\n      <td>0</td>\n      <td>-0.002001</td>\n      <td>0</td>\n      <td>0</td>\n      <td>0</td>\n      <td>0</td>\n      <td>-</td>\n      <td>-</td>\n      <td>-</td>\n    </tr>\n    <tr>\n      <th>1</th>\n      <td>0</td>\n      <td>0</td>\n      <td>-0.002001</td>\n      <td>0</td>\n      <td>0</td>\n      <td>0</td>\n      <td>0</td>\n      <td>-</td>\n      <td>-</td>\n      <td>-</td>\n    </tr>\n    <tr>\n      <th>2</th>\n      <td>0</td>\n      <td>0</td>\n      <td>-0.002001</td>\n      <td>0</td>\n      <td>0</td>\n      <td>0</td>\n      <td>0</td>\n      <td>-</td>\n      <td>-</td>\n      <td>-</td>\n    </tr>\n    <tr>\n      <th>3</th>\n      <td>0</td>\n      <td>0</td>\n      <td>-0.002001</td>\n      <td>0</td>\n      <td>0</td>\n      <td>0</td>\n      <td>0</td>\n      <td>-</td>\n      <td>-</td>\n      <td>-</td>\n    </tr>\n    <tr>\n      <th>4</th>\n      <td>0</td>\n      <td>0</td>\n      <td>-0.002001</td>\n      <td>0</td>\n      <td>0</td>\n      <td>0</td>\n      <td>0</td>\n      <td>-</td>\n      <td>-</td>\n      <td>-</td>\n    </tr>\n    <tr>\n      <th>...</th>\n      <td>...</td>\n      <td>...</td>\n      <td>...</td>\n      <td>...</td>\n      <td>...</td>\n      <td>...</td>\n      <td>...</td>\n      <td>...</td>\n      <td>...</td>\n      <td>...</td>\n    </tr>\n    <tr>\n      <th>461038</th>\n      <td>0</td>\n      <td>0</td>\n      <td>-0.002001</td>\n      <td>0</td>\n      <td>0</td>\n      <td>0</td>\n      <td>0</td>\n      <td>-</td>\n      <td>-</td>\n      <td>-</td>\n    </tr>\n    <tr>\n      <th>461039</th>\n      <td>0</td>\n      <td>0</td>\n      <td>-0.002001</td>\n      <td>0</td>\n      <td>0</td>\n      <td>0</td>\n      <td>0</td>\n      <td>-</td>\n      <td>-</td>\n      <td>-</td>\n    </tr>\n    <tr>\n      <th>461040</th>\n      <td>0</td>\n      <td>0</td>\n      <td>-0.002001</td>\n      <td>0</td>\n      <td>0</td>\n      <td>0</td>\n      <td>0</td>\n      <td>-</td>\n      <td>-</td>\n      <td>-</td>\n    </tr>\n    <tr>\n      <th>461041</th>\n      <td>0</td>\n      <td>0</td>\n      <td>-0.002001</td>\n      <td>0</td>\n      <td>0</td>\n      <td>0</td>\n      <td>0</td>\n      <td>-</td>\n      <td>-</td>\n      <td>-</td>\n    </tr>\n    <tr>\n      <th>461042</th>\n      <td>0</td>\n      <td>0</td>\n      <td>-0.002001</td>\n      <td>0</td>\n      <td>0</td>\n      <td>0</td>\n      <td>0</td>\n      <td>-</td>\n      <td>-</td>\n      <td>-</td>\n    </tr>\n  </tbody>\n</table>\n<p>461043 rows × 10 columns</p>\n</div>"
     },
     "execution_count": 25,
     "metadata": {},
     "output_type": "execute_result"
    }
   ],
   "source": [
    "http_data['http_version'] = http_data['http_version'].astype('category').cat.codes\n",
    "http_data"
   ],
   "metadata": {
    "collapsed": false,
    "pycharm": {
     "name": "#%%\n"
    }
   }
  },
  {
   "cell_type": "code",
   "execution_count": 26,
   "outputs": [],
   "source": [
    "http_data['http_user_agent'] = http_data['http_user_agent'].apply(convert_text_numeric)"
   ],
   "metadata": {
    "collapsed": false,
    "pycharm": {
     "name": "#%%\n"
    }
   }
  },
  {
   "cell_type": "code",
   "execution_count": 27,
   "outputs": [
    {
     "data": {
      "text/plain": "        http_trans_depth  http_method  http_uri  http_version  \\\n0                      0            0 -0.002001             0   \n1                      0            0 -0.002001             0   \n2                      0            0 -0.002001             0   \n3                      0            0 -0.002001             0   \n4                      0            0 -0.002001             0   \n...                  ...          ...       ...           ...   \n461038                 0            0 -0.002001             0   \n461039                 0            0 -0.002001             0   \n461040                 0            0 -0.002001             0   \n461041                 0            0 -0.002001             0   \n461042                 0            0 -0.002001             0   \n\n        http_request_body_len  http_response_body_len  http_status_code  \\\n0                           0                       0                 0   \n1                           0                       0                 0   \n2                           0                       0                 0   \n3                           0                       0                 0   \n4                           0                       0                 0   \n...                       ...                     ...               ...   \n461038                      0                       0                 0   \n461039                      0                       0                 0   \n461040                      0                       0                 0   \n461041                      0                       0                 0   \n461042                      0                       0                 0   \n\n        http_user_agent  http_orig_mime_types http_resp_mime_types  \n0             -0.002001                     0                    -  \n1             -0.002001                     0                    -  \n2             -0.002001                     0                    -  \n3             -0.002001                     0                    -  \n4             -0.002001                     0                    -  \n...                 ...                   ...                  ...  \n461038        -0.002001                     0                    -  \n461039        -0.002001                     0                    -  \n461040        -0.002001                     0                    -  \n461041        -0.002001                     0                    -  \n461042        -0.002001                     0                    -  \n\n[461043 rows x 10 columns]",
      "text/html": "<div>\n<style scoped>\n    .dataframe tbody tr th:only-of-type {\n        vertical-align: middle;\n    }\n\n    .dataframe tbody tr th {\n        vertical-align: top;\n    }\n\n    .dataframe thead th {\n        text-align: right;\n    }\n</style>\n<table border=\"1\" class=\"dataframe\">\n  <thead>\n    <tr style=\"text-align: right;\">\n      <th></th>\n      <th>http_trans_depth</th>\n      <th>http_method</th>\n      <th>http_uri</th>\n      <th>http_version</th>\n      <th>http_request_body_len</th>\n      <th>http_response_body_len</th>\n      <th>http_status_code</th>\n      <th>http_user_agent</th>\n      <th>http_orig_mime_types</th>\n      <th>http_resp_mime_types</th>\n    </tr>\n  </thead>\n  <tbody>\n    <tr>\n      <th>0</th>\n      <td>0</td>\n      <td>0</td>\n      <td>-0.002001</td>\n      <td>0</td>\n      <td>0</td>\n      <td>0</td>\n      <td>0</td>\n      <td>-0.002001</td>\n      <td>0</td>\n      <td>-</td>\n    </tr>\n    <tr>\n      <th>1</th>\n      <td>0</td>\n      <td>0</td>\n      <td>-0.002001</td>\n      <td>0</td>\n      <td>0</td>\n      <td>0</td>\n      <td>0</td>\n      <td>-0.002001</td>\n      <td>0</td>\n      <td>-</td>\n    </tr>\n    <tr>\n      <th>2</th>\n      <td>0</td>\n      <td>0</td>\n      <td>-0.002001</td>\n      <td>0</td>\n      <td>0</td>\n      <td>0</td>\n      <td>0</td>\n      <td>-0.002001</td>\n      <td>0</td>\n      <td>-</td>\n    </tr>\n    <tr>\n      <th>3</th>\n      <td>0</td>\n      <td>0</td>\n      <td>-0.002001</td>\n      <td>0</td>\n      <td>0</td>\n      <td>0</td>\n      <td>0</td>\n      <td>-0.002001</td>\n      <td>0</td>\n      <td>-</td>\n    </tr>\n    <tr>\n      <th>4</th>\n      <td>0</td>\n      <td>0</td>\n      <td>-0.002001</td>\n      <td>0</td>\n      <td>0</td>\n      <td>0</td>\n      <td>0</td>\n      <td>-0.002001</td>\n      <td>0</td>\n      <td>-</td>\n    </tr>\n    <tr>\n      <th>...</th>\n      <td>...</td>\n      <td>...</td>\n      <td>...</td>\n      <td>...</td>\n      <td>...</td>\n      <td>...</td>\n      <td>...</td>\n      <td>...</td>\n      <td>...</td>\n      <td>...</td>\n    </tr>\n    <tr>\n      <th>461038</th>\n      <td>0</td>\n      <td>0</td>\n      <td>-0.002001</td>\n      <td>0</td>\n      <td>0</td>\n      <td>0</td>\n      <td>0</td>\n      <td>-0.002001</td>\n      <td>0</td>\n      <td>-</td>\n    </tr>\n    <tr>\n      <th>461039</th>\n      <td>0</td>\n      <td>0</td>\n      <td>-0.002001</td>\n      <td>0</td>\n      <td>0</td>\n      <td>0</td>\n      <td>0</td>\n      <td>-0.002001</td>\n      <td>0</td>\n      <td>-</td>\n    </tr>\n    <tr>\n      <th>461040</th>\n      <td>0</td>\n      <td>0</td>\n      <td>-0.002001</td>\n      <td>0</td>\n      <td>0</td>\n      <td>0</td>\n      <td>0</td>\n      <td>-0.002001</td>\n      <td>0</td>\n      <td>-</td>\n    </tr>\n    <tr>\n      <th>461041</th>\n      <td>0</td>\n      <td>0</td>\n      <td>-0.002001</td>\n      <td>0</td>\n      <td>0</td>\n      <td>0</td>\n      <td>0</td>\n      <td>-0.002001</td>\n      <td>0</td>\n      <td>-</td>\n    </tr>\n    <tr>\n      <th>461042</th>\n      <td>0</td>\n      <td>0</td>\n      <td>-0.002001</td>\n      <td>0</td>\n      <td>0</td>\n      <td>0</td>\n      <td>0</td>\n      <td>-0.002001</td>\n      <td>0</td>\n      <td>-</td>\n    </tr>\n  </tbody>\n</table>\n<p>461043 rows × 10 columns</p>\n</div>"
     },
     "execution_count": 27,
     "metadata": {},
     "output_type": "execute_result"
    }
   ],
   "source": [
    "http_data['http_orig_mime_types'] = http_data['http_orig_mime_types'].astype('category').cat.codes\n",
    "http_data"
   ],
   "metadata": {
    "collapsed": false,
    "pycharm": {
     "name": "#%%\n"
    }
   }
  },
  {
   "cell_type": "code",
   "execution_count": 28,
   "outputs": [
    {
     "data": {
      "text/plain": "        http_trans_depth  http_method  http_uri  http_version  \\\n0                      0            0 -0.002001             0   \n1                      0            0 -0.002001             0   \n2                      0            0 -0.002001             0   \n3                      0            0 -0.002001             0   \n4                      0            0 -0.002001             0   \n...                  ...          ...       ...           ...   \n461038                 0            0 -0.002001             0   \n461039                 0            0 -0.002001             0   \n461040                 0            0 -0.002001             0   \n461041                 0            0 -0.002001             0   \n461042                 0            0 -0.002001             0   \n\n        http_request_body_len  http_response_body_len  http_status_code  \\\n0                           0                       0                 0   \n1                           0                       0                 0   \n2                           0                       0                 0   \n3                           0                       0                 0   \n4                           0                       0                 0   \n...                       ...                     ...               ...   \n461038                      0                       0                 0   \n461039                      0                       0                 0   \n461040                      0                       0                 0   \n461041                      0                       0                 0   \n461042                      0                       0                 0   \n\n        http_user_agent  http_orig_mime_types  http_resp_mime_types  \n0             -0.002001                     0                     0  \n1             -0.002001                     0                     0  \n2             -0.002001                     0                     0  \n3             -0.002001                     0                     0  \n4             -0.002001                     0                     0  \n...                 ...                   ...                   ...  \n461038        -0.002001                     0                     0  \n461039        -0.002001                     0                     0  \n461040        -0.002001                     0                     0  \n461041        -0.002001                     0                     0  \n461042        -0.002001                     0                     0  \n\n[461043 rows x 10 columns]",
      "text/html": "<div>\n<style scoped>\n    .dataframe tbody tr th:only-of-type {\n        vertical-align: middle;\n    }\n\n    .dataframe tbody tr th {\n        vertical-align: top;\n    }\n\n    .dataframe thead th {\n        text-align: right;\n    }\n</style>\n<table border=\"1\" class=\"dataframe\">\n  <thead>\n    <tr style=\"text-align: right;\">\n      <th></th>\n      <th>http_trans_depth</th>\n      <th>http_method</th>\n      <th>http_uri</th>\n      <th>http_version</th>\n      <th>http_request_body_len</th>\n      <th>http_response_body_len</th>\n      <th>http_status_code</th>\n      <th>http_user_agent</th>\n      <th>http_orig_mime_types</th>\n      <th>http_resp_mime_types</th>\n    </tr>\n  </thead>\n  <tbody>\n    <tr>\n      <th>0</th>\n      <td>0</td>\n      <td>0</td>\n      <td>-0.002001</td>\n      <td>0</td>\n      <td>0</td>\n      <td>0</td>\n      <td>0</td>\n      <td>-0.002001</td>\n      <td>0</td>\n      <td>0</td>\n    </tr>\n    <tr>\n      <th>1</th>\n      <td>0</td>\n      <td>0</td>\n      <td>-0.002001</td>\n      <td>0</td>\n      <td>0</td>\n      <td>0</td>\n      <td>0</td>\n      <td>-0.002001</td>\n      <td>0</td>\n      <td>0</td>\n    </tr>\n    <tr>\n      <th>2</th>\n      <td>0</td>\n      <td>0</td>\n      <td>-0.002001</td>\n      <td>0</td>\n      <td>0</td>\n      <td>0</td>\n      <td>0</td>\n      <td>-0.002001</td>\n      <td>0</td>\n      <td>0</td>\n    </tr>\n    <tr>\n      <th>3</th>\n      <td>0</td>\n      <td>0</td>\n      <td>-0.002001</td>\n      <td>0</td>\n      <td>0</td>\n      <td>0</td>\n      <td>0</td>\n      <td>-0.002001</td>\n      <td>0</td>\n      <td>0</td>\n    </tr>\n    <tr>\n      <th>4</th>\n      <td>0</td>\n      <td>0</td>\n      <td>-0.002001</td>\n      <td>0</td>\n      <td>0</td>\n      <td>0</td>\n      <td>0</td>\n      <td>-0.002001</td>\n      <td>0</td>\n      <td>0</td>\n    </tr>\n    <tr>\n      <th>...</th>\n      <td>...</td>\n      <td>...</td>\n      <td>...</td>\n      <td>...</td>\n      <td>...</td>\n      <td>...</td>\n      <td>...</td>\n      <td>...</td>\n      <td>...</td>\n      <td>...</td>\n    </tr>\n    <tr>\n      <th>461038</th>\n      <td>0</td>\n      <td>0</td>\n      <td>-0.002001</td>\n      <td>0</td>\n      <td>0</td>\n      <td>0</td>\n      <td>0</td>\n      <td>-0.002001</td>\n      <td>0</td>\n      <td>0</td>\n    </tr>\n    <tr>\n      <th>461039</th>\n      <td>0</td>\n      <td>0</td>\n      <td>-0.002001</td>\n      <td>0</td>\n      <td>0</td>\n      <td>0</td>\n      <td>0</td>\n      <td>-0.002001</td>\n      <td>0</td>\n      <td>0</td>\n    </tr>\n    <tr>\n      <th>461040</th>\n      <td>0</td>\n      <td>0</td>\n      <td>-0.002001</td>\n      <td>0</td>\n      <td>0</td>\n      <td>0</td>\n      <td>0</td>\n      <td>-0.002001</td>\n      <td>0</td>\n      <td>0</td>\n    </tr>\n    <tr>\n      <th>461041</th>\n      <td>0</td>\n      <td>0</td>\n      <td>-0.002001</td>\n      <td>0</td>\n      <td>0</td>\n      <td>0</td>\n      <td>0</td>\n      <td>-0.002001</td>\n      <td>0</td>\n      <td>0</td>\n    </tr>\n    <tr>\n      <th>461042</th>\n      <td>0</td>\n      <td>0</td>\n      <td>-0.002001</td>\n      <td>0</td>\n      <td>0</td>\n      <td>0</td>\n      <td>0</td>\n      <td>-0.002001</td>\n      <td>0</td>\n      <td>0</td>\n    </tr>\n  </tbody>\n</table>\n<p>461043 rows × 10 columns</p>\n</div>"
     },
     "execution_count": 28,
     "metadata": {},
     "output_type": "execute_result"
    }
   ],
   "source": [
    "http_data['http_resp_mime_types'] = http_data['http_resp_mime_types'].astype('category').cat.codes\n",
    "http_data"
   ],
   "metadata": {
    "collapsed": false,
    "pycharm": {
     "name": "#%%\n"
    }
   }
  },
  {
   "cell_type": "code",
   "execution_count": 33,
   "outputs": [
    {
     "data": {
      "text/plain": "0         0\n1         0\n2         0\n3         0\n4         0\n         ..\n461038    1\n461039    1\n461040    1\n461041    1\n461042    1\nName: label, Length: 461043, dtype: int64"
     },
     "execution_count": 33,
     "metadata": {},
     "output_type": "execute_result"
    }
   ],
   "source": [
    "label_data = df['label']\n",
    "label_data"
   ],
   "metadata": {
    "collapsed": false,
    "pycharm": {
     "name": "#%%\n"
    }
   }
  },
  {
   "cell_type": "code",
   "execution_count": 34,
   "outputs": [],
   "source": [
    "data.to_csv('data/data.csv', index=False)\n",
    "dns_data.to_csv('data/dns_data.csv', index=False)\n",
    "ssl_data.to_csv('data/ssl_data.csv', index=False)\n",
    "http_data.to_csv('data/http_data.csv', index=False)\n",
    "label_data.to_csv('data/label_data.csv', index=False)"
   ],
   "metadata": {
    "collapsed": false,
    "pycharm": {
     "name": "#%%\n"
    }
   }
  },
  {
   "cell_type": "code",
   "execution_count": 37,
   "outputs": [
    {
     "data": {
      "text/plain": "        src_port  dst_port  proto  service      duration  src_bytes  \\\n0           1883     52976      1        0  80549.530260    1762852   \n1          47260     15600      2        0      0.000000          0   \n2           1880     51782      1        0      0.000000          0   \n3          34296     10502      1        0      0.000000          0   \n4          46608        53      2        3      0.000549          0   \n...          ...       ...    ...      ...           ...        ...   \n461038     33108        80      1        0      0.000000          0   \n461039     37242       443      1        0      0.000000          0   \n461040      4444     49178      1        0    290.371539     101568   \n461041     60816       443      1        0     23.190902         32   \n461042     41054       443      1        0     22.872314         32   \n\n        dst_bytes  conn_state  missed_bytes  src_pkts  ...  http_trans_depth  \\\n0        41933215           0             0    252181  ...                 0   \n1               0           6             0         1  ...                 0   \n2               0           0             0         0  ...                 0   \n3               0           0             0         0  ...                 0   \n4             298          12             0         0  ...                 0   \n...           ...         ...           ...       ...  ...               ...   \n461038          0           6             0         1  ...                 0   \n461039          0           0             0         0  ...                 0   \n461040       2592           0             0       108  ...                 0   \n461041         31          10             0         8  ...                 0   \n461042         31          10             0         8  ...                 0   \n\n        http_method  http_uri  http_version  http_request_body_len  \\\n0                 0 -0.002001             0                      0   \n1                 0 -0.002001             0                      0   \n2                 0 -0.002001             0                      0   \n3                 0 -0.002001             0                      0   \n4                 0 -0.002001             0                      0   \n...             ...       ...           ...                    ...   \n461038            0 -0.002001             0                      0   \n461039            0 -0.002001             0                      0   \n461040            0 -0.002001             0                      0   \n461041            0 -0.002001             0                      0   \n461042            0 -0.002001             0                      0   \n\n        http_response_body_len  http_status_code  http_user_agent  \\\n0                            0                 0        -0.002001   \n1                            0                 0        -0.002001   \n2                            0                 0        -0.002001   \n3                            0                 0        -0.002001   \n4                            0                 0        -0.002001   \n...                        ...               ...              ...   \n461038                       0                 0        -0.002001   \n461039                       0                 0        -0.002001   \n461040                       0                 0        -0.002001   \n461041                       0                 0        -0.002001   \n461042                       0                 0        -0.002001   \n\n        http_orig_mime_types  http_resp_mime_types  \n0                          0                     0  \n1                          0                     0  \n2                          0                     0  \n3                          0                     0  \n4                          0                     0  \n...                      ...                   ...  \n461038                     0                     0  \n461039                     0                     0  \n461040                     0                     0  \n461041                     0                     0  \n461042                     0                     0  \n\n[461043 rows x 36 columns]",
      "text/html": "<div>\n<style scoped>\n    .dataframe tbody tr th:only-of-type {\n        vertical-align: middle;\n    }\n\n    .dataframe tbody tr th {\n        vertical-align: top;\n    }\n\n    .dataframe thead th {\n        text-align: right;\n    }\n</style>\n<table border=\"1\" class=\"dataframe\">\n  <thead>\n    <tr style=\"text-align: right;\">\n      <th></th>\n      <th>src_port</th>\n      <th>dst_port</th>\n      <th>proto</th>\n      <th>service</th>\n      <th>duration</th>\n      <th>src_bytes</th>\n      <th>dst_bytes</th>\n      <th>conn_state</th>\n      <th>missed_bytes</th>\n      <th>src_pkts</th>\n      <th>...</th>\n      <th>http_trans_depth</th>\n      <th>http_method</th>\n      <th>http_uri</th>\n      <th>http_version</th>\n      <th>http_request_body_len</th>\n      <th>http_response_body_len</th>\n      <th>http_status_code</th>\n      <th>http_user_agent</th>\n      <th>http_orig_mime_types</th>\n      <th>http_resp_mime_types</th>\n    </tr>\n  </thead>\n  <tbody>\n    <tr>\n      <th>0</th>\n      <td>1883</td>\n      <td>52976</td>\n      <td>1</td>\n      <td>0</td>\n      <td>80549.530260</td>\n      <td>1762852</td>\n      <td>41933215</td>\n      <td>0</td>\n      <td>0</td>\n      <td>252181</td>\n      <td>...</td>\n      <td>0</td>\n      <td>0</td>\n      <td>-0.002001</td>\n      <td>0</td>\n      <td>0</td>\n      <td>0</td>\n      <td>0</td>\n      <td>-0.002001</td>\n      <td>0</td>\n      <td>0</td>\n    </tr>\n    <tr>\n      <th>1</th>\n      <td>47260</td>\n      <td>15600</td>\n      <td>2</td>\n      <td>0</td>\n      <td>0.000000</td>\n      <td>0</td>\n      <td>0</td>\n      <td>6</td>\n      <td>0</td>\n      <td>1</td>\n      <td>...</td>\n      <td>0</td>\n      <td>0</td>\n      <td>-0.002001</td>\n      <td>0</td>\n      <td>0</td>\n      <td>0</td>\n      <td>0</td>\n      <td>-0.002001</td>\n      <td>0</td>\n      <td>0</td>\n    </tr>\n    <tr>\n      <th>2</th>\n      <td>1880</td>\n      <td>51782</td>\n      <td>1</td>\n      <td>0</td>\n      <td>0.000000</td>\n      <td>0</td>\n      <td>0</td>\n      <td>0</td>\n      <td>0</td>\n      <td>0</td>\n      <td>...</td>\n      <td>0</td>\n      <td>0</td>\n      <td>-0.002001</td>\n      <td>0</td>\n      <td>0</td>\n      <td>0</td>\n      <td>0</td>\n      <td>-0.002001</td>\n      <td>0</td>\n      <td>0</td>\n    </tr>\n    <tr>\n      <th>3</th>\n      <td>34296</td>\n      <td>10502</td>\n      <td>1</td>\n      <td>0</td>\n      <td>0.000000</td>\n      <td>0</td>\n      <td>0</td>\n      <td>0</td>\n      <td>0</td>\n      <td>0</td>\n      <td>...</td>\n      <td>0</td>\n      <td>0</td>\n      <td>-0.002001</td>\n      <td>0</td>\n      <td>0</td>\n      <td>0</td>\n      <td>0</td>\n      <td>-0.002001</td>\n      <td>0</td>\n      <td>0</td>\n    </tr>\n    <tr>\n      <th>4</th>\n      <td>46608</td>\n      <td>53</td>\n      <td>2</td>\n      <td>3</td>\n      <td>0.000549</td>\n      <td>0</td>\n      <td>298</td>\n      <td>12</td>\n      <td>0</td>\n      <td>0</td>\n      <td>...</td>\n      <td>0</td>\n      <td>0</td>\n      <td>-0.002001</td>\n      <td>0</td>\n      <td>0</td>\n      <td>0</td>\n      <td>0</td>\n      <td>-0.002001</td>\n      <td>0</td>\n      <td>0</td>\n    </tr>\n    <tr>\n      <th>...</th>\n      <td>...</td>\n      <td>...</td>\n      <td>...</td>\n      <td>...</td>\n      <td>...</td>\n      <td>...</td>\n      <td>...</td>\n      <td>...</td>\n      <td>...</td>\n      <td>...</td>\n      <td>...</td>\n      <td>...</td>\n      <td>...</td>\n      <td>...</td>\n      <td>...</td>\n      <td>...</td>\n      <td>...</td>\n      <td>...</td>\n      <td>...</td>\n      <td>...</td>\n      <td>...</td>\n    </tr>\n    <tr>\n      <th>461038</th>\n      <td>33108</td>\n      <td>80</td>\n      <td>1</td>\n      <td>0</td>\n      <td>0.000000</td>\n      <td>0</td>\n      <td>0</td>\n      <td>6</td>\n      <td>0</td>\n      <td>1</td>\n      <td>...</td>\n      <td>0</td>\n      <td>0</td>\n      <td>-0.002001</td>\n      <td>0</td>\n      <td>0</td>\n      <td>0</td>\n      <td>0</td>\n      <td>-0.002001</td>\n      <td>0</td>\n      <td>0</td>\n    </tr>\n    <tr>\n      <th>461039</th>\n      <td>37242</td>\n      <td>443</td>\n      <td>1</td>\n      <td>0</td>\n      <td>0.000000</td>\n      <td>0</td>\n      <td>0</td>\n      <td>0</td>\n      <td>0</td>\n      <td>0</td>\n      <td>...</td>\n      <td>0</td>\n      <td>0</td>\n      <td>-0.002001</td>\n      <td>0</td>\n      <td>0</td>\n      <td>0</td>\n      <td>0</td>\n      <td>-0.002001</td>\n      <td>0</td>\n      <td>0</td>\n    </tr>\n    <tr>\n      <th>461040</th>\n      <td>4444</td>\n      <td>49178</td>\n      <td>1</td>\n      <td>0</td>\n      <td>290.371539</td>\n      <td>101568</td>\n      <td>2592</td>\n      <td>0</td>\n      <td>0</td>\n      <td>108</td>\n      <td>...</td>\n      <td>0</td>\n      <td>0</td>\n      <td>-0.002001</td>\n      <td>0</td>\n      <td>0</td>\n      <td>0</td>\n      <td>0</td>\n      <td>-0.002001</td>\n      <td>0</td>\n      <td>0</td>\n    </tr>\n    <tr>\n      <th>461041</th>\n      <td>60816</td>\n      <td>443</td>\n      <td>1</td>\n      <td>0</td>\n      <td>23.190902</td>\n      <td>32</td>\n      <td>31</td>\n      <td>10</td>\n      <td>0</td>\n      <td>8</td>\n      <td>...</td>\n      <td>0</td>\n      <td>0</td>\n      <td>-0.002001</td>\n      <td>0</td>\n      <td>0</td>\n      <td>0</td>\n      <td>0</td>\n      <td>-0.002001</td>\n      <td>0</td>\n      <td>0</td>\n    </tr>\n    <tr>\n      <th>461042</th>\n      <td>41054</td>\n      <td>443</td>\n      <td>1</td>\n      <td>0</td>\n      <td>22.872314</td>\n      <td>32</td>\n      <td>31</td>\n      <td>10</td>\n      <td>0</td>\n      <td>8</td>\n      <td>...</td>\n      <td>0</td>\n      <td>0</td>\n      <td>-0.002001</td>\n      <td>0</td>\n      <td>0</td>\n      <td>0</td>\n      <td>0</td>\n      <td>-0.002001</td>\n      <td>0</td>\n      <td>0</td>\n    </tr>\n  </tbody>\n</table>\n<p>461043 rows × 36 columns</p>\n</div>"
     },
     "execution_count": 37,
     "metadata": {},
     "output_type": "execute_result"
    }
   ],
   "source": [
    "preprocessed_data = pd.concat([data, dns_data, ssl_data, http_data], axis=1)\n",
    "preprocessed_data"
   ],
   "metadata": {
    "collapsed": false,
    "pycharm": {
     "name": "#%%\n"
    }
   }
  },
  {
   "cell_type": "code",
   "execution_count": 38,
   "outputs": [],
   "source": [
    "preprocessed_data.to_csv('data/preprocess.csv', index=False)"
   ],
   "metadata": {
    "collapsed": false,
    "pycharm": {
     "name": "#%%\n"
    }
   }
  }
 ],
 "metadata": {
  "kernelspec": {
   "display_name": "Python 3",
   "language": "python",
   "name": "python3"
  },
  "language_info": {
   "codemirror_mode": {
    "name": "ipython",
    "version": 2
   },
   "file_extension": ".py",
   "mimetype": "text/x-python",
   "name": "python",
   "nbconvert_exporter": "python",
   "pygments_lexer": "ipython2",
   "version": "2.7.6"
  }
 },
 "nbformat": 4,
 "nbformat_minor": 0
}
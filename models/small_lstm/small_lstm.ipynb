{
 "cells": [
  {
   "cell_type": "code",
   "execution_count": 1,
   "metadata": {
    "collapsed": true
   },
   "outputs": [],
   "source": [
    "import pandas as pd\n",
    "import torch\n",
    "from torch.utils.data import Dataset\n",
    "from sklearn.preprocessing import MinMaxScaler\n",
    "\n",
    "class TONDataset(Dataset):\n",
    "    def __init__(self, data_root, label_root):\n",
    "        sc = MinMaxScaler()\n",
    "        samples = pd.read_csv(data_root)\n",
    "        self.samples = pd.DataFrame(sc.fit_transform(samples))\n",
    "        self.labels = pd.read_csv(label_root)\n",
    "\n",
    "    def __len__(self):\n",
    "        return len(self.samples)\n",
    "\n",
    "    def __getitem__(self, idx):\n",
    "        label = torch.tensor(self.labels.iloc[idx]).float().requires_grad_()\n",
    "        sample = torch.tensor(self.samples.iloc[idx]).float().requires_grad_()\n",
    "        return sample, label"
   ]
  },
  {
   "cell_type": "code",
   "execution_count": 2,
   "outputs": [],
   "source": [
    "import numpy as np\n",
    "from torch.utils.data import SubsetRandomSampler, DataLoader\n",
    "\n",
    "BATCH_SIZE = 1024\n",
    "TEST_SPLIT_SIZE = .2\n",
    "SHUFFLE = True\n",
    "RANDOM_SEED = 42\n",
    "\n",
    "PATH = \"/root/code/iot_ddos_detection/data/\"\n",
    "data_filename = \"preprocess.csv\"\n",
    "label_filename = \"label_data.csv\"\n",
    "\n",
    "dataset = TONDataset(PATH + data_filename, PATH + label_filename)\n",
    "\n",
    "# Train and Test split\n",
    "dataset_size = len(dataset)\n",
    "indices = list(range(dataset_size))\n",
    "split = int(np.floor(TEST_SPLIT_SIZE * dataset_size))\n",
    "if SHUFFLE:\n",
    "    np.random.seed(RANDOM_SEED)\n",
    "    np.random.shuffle(indices)\n",
    "train_indices, test_indices = indices[split:], indices[:split]\n",
    "\n",
    "# Sampler\n",
    "train_sampler = SubsetRandomSampler(train_indices)\n",
    "test_sampler = SubsetRandomSampler(test_indices)\n",
    "\n",
    "# Data Loader\n",
    "train_dataloader = DataLoader(dataset, batch_size=BATCH_SIZE, sampler=train_sampler)\n",
    "test_dataloader = DataLoader(dataset, batch_size=BATCH_SIZE, sampler=test_sampler)"
   ],
   "metadata": {
    "collapsed": false,
    "pycharm": {
     "name": "#%%\n"
    }
   }
  },
  {
   "cell_type": "code",
   "execution_count": 3,
   "outputs": [],
   "source": [
    "import torch.nn as nn\n",
    "\n",
    "torch.manual_seed(1)\n",
    "HIDDEN_SIZE = 128\n",
    "\n",
    "class LSTM(nn.Module):\n",
    "    def __init__(self):\n",
    "        super(LSTM, self).__init__()\n",
    "\n",
    "        self.lstm1 = nn.LSTM(input_size=36, hidden_size=HIDDEN_SIZE, num_layers=1, batch_first=True)\n",
    "        self.dropout1 = nn.Dropout(0.5)\n",
    "\n",
    "        self.lstm2 = nn.LSTM(input_size=HIDDEN_SIZE, hidden_size=HIDDEN_SIZE, num_layers=1, batch_first=True)\n",
    "        self.dropout2 = nn.Dropout(0.5)\n",
    "\n",
    "        self.fc3 = nn.Linear(HIDDEN_SIZE, 1)\n",
    "\n",
    "    def forward(self, x):\n",
    "        output, _status = self.lstm1(x)\n",
    "        output = self.dropout1(output)\n",
    "\n",
    "        output, _status = self.lstm2(output)\n",
    "        output = self.dropout2(output)\n",
    "\n",
    "        output = self.fc3(output)\n",
    "        output = output.reshape(-1,1)\n",
    "        output = torch.sigmoid(output)\n",
    "\n",
    "        return output\n",
    "\n",
    "model = LSTM()"
   ],
   "metadata": {
    "collapsed": false,
    "pycharm": {
     "name": "#%%\n"
    }
   }
  },
  {
   "cell_type": "code",
   "execution_count": 4,
   "outputs": [
    {
     "name": "stdout",
     "output_type": "stream",
     "text": [
      "cuda:0\n"
     ]
    }
   ],
   "source": [
    "device = torch.device(\"cuda:0\" if torch.cuda.is_available() else \"cpu\")\n",
    "if torch.cuda.is_available():\n",
    "    print(device)\n",
    "    model.to(device)"
   ],
   "metadata": {
    "collapsed": false,
    "pycharm": {
     "name": "#%%\n"
    }
   }
  },
  {
   "cell_type": "code",
   "execution_count": 5,
   "outputs": [],
   "source": [
    "LEARNING_RATE = 0.001\n",
    "EPOCHS = 50\n",
    "\n",
    "criterion = torch.nn.BCELoss()\n",
    "optimizer = torch.optim.Adam(model.parameters(), lr=LEARNING_RATE)"
   ],
   "metadata": {
    "collapsed": false,
    "pycharm": {
     "name": "#%%\n"
    }
   }
  },
  {
   "cell_type": "code",
   "execution_count": 6,
   "outputs": [
    {
     "name": "stdout",
     "output_type": "stream",
     "text": [
      "Epoch 1/50, Training Loss: 0.453, Test loss: 0.309, Accuracy: 87.45\n",
      "Epoch 2/50, Training Loss: 0.269, Test loss: 0.259, Accuracy: 88.18\n",
      "Epoch 3/50, Training Loss: 0.244, Test loss: 0.233, Accuracy: 90.17\n",
      "Epoch 4/50, Training Loss: 0.212, Test loss: 0.206, Accuracy: 91.90\n",
      "Epoch 5/50, Training Loss: 0.195, Test loss: 0.197, Accuracy: 91.92\n",
      "Epoch 6/50, Training Loss: 0.184, Test loss: 0.184, Accuracy: 92.63\n",
      "Epoch 7/50, Training Loss: 0.178, Test loss: 0.180, Accuracy: 93.06\n",
      "Epoch 8/50, Training Loss: 0.172, Test loss: 0.176, Accuracy: 92.85\n",
      "Epoch 9/50, Training Loss: 0.165, Test loss: 0.170, Accuracy: 93.62\n",
      "Epoch 10/50, Training Loss: 0.159, Test loss: 0.158, Accuracy: 93.83\n",
      "Epoch 11/50, Training Loss: 0.152, Test loss: 0.154, Accuracy: 94.06\n",
      "Epoch 12/50, Training Loss: 0.147, Test loss: 0.148, Accuracy: 94.14\n",
      "Epoch 13/50, Training Loss: 0.143, Test loss: 0.147, Accuracy: 94.43\n",
      "Epoch 14/50, Training Loss: 0.140, Test loss: 0.140, Accuracy: 94.68\n",
      "Epoch 15/50, Training Loss: 0.137, Test loss: 0.140, Accuracy: 94.64\n",
      "Epoch 16/50, Training Loss: 0.135, Test loss: 0.137, Accuracy: 94.83\n",
      "Epoch 17/50, Training Loss: 0.133, Test loss: 0.135, Accuracy: 94.86\n",
      "Epoch 18/50, Training Loss: 0.131, Test loss: 0.131, Accuracy: 94.93\n",
      "Epoch 19/50, Training Loss: 0.129, Test loss: 0.132, Accuracy: 94.88\n",
      "Epoch 20/50, Training Loss: 0.128, Test loss: 0.130, Accuracy: 94.87\n",
      "Epoch 21/50, Training Loss: 0.126, Test loss: 0.129, Accuracy: 95.03\n",
      "Epoch 22/50, Training Loss: 0.125, Test loss: 0.126, Accuracy: 95.10\n",
      "Epoch 23/50, Training Loss: 0.124, Test loss: 0.126, Accuracy: 95.11\n",
      "Epoch 24/50, Training Loss: 0.123, Test loss: 0.125, Accuracy: 95.15\n",
      "Epoch 25/50, Training Loss: 0.121, Test loss: 0.124, Accuracy: 95.07\n",
      "Epoch 26/50, Training Loss: 0.120, Test loss: 0.125, Accuracy: 94.96\n",
      "Epoch 27/50, Training Loss: 0.119, Test loss: 0.121, Accuracy: 95.14\n",
      "Epoch 28/50, Training Loss: 0.118, Test loss: 0.121, Accuracy: 95.24\n",
      "Epoch 29/50, Training Loss: 0.117, Test loss: 0.119, Accuracy: 95.28\n",
      "Epoch 30/50, Training Loss: 0.117, Test loss: 0.118, Accuracy: 95.29\n",
      "Epoch 31/50, Training Loss: 0.116, Test loss: 0.117, Accuracy: 95.29\n",
      "Epoch 32/50, Training Loss: 0.115, Test loss: 0.120, Accuracy: 95.26\n",
      "Epoch 33/50, Training Loss: 0.114, Test loss: 0.116, Accuracy: 95.32\n",
      "Epoch 34/50, Training Loss: 0.114, Test loss: 0.115, Accuracy: 95.35\n",
      "Epoch 35/50, Training Loss: 0.112, Test loss: 0.116, Accuracy: 95.24\n",
      "Epoch 36/50, Training Loss: 0.112, Test loss: 0.114, Accuracy: 95.31\n",
      "Epoch 37/50, Training Loss: 0.112, Test loss: 0.113, Accuracy: 95.42\n",
      "Epoch 38/50, Training Loss: 0.111, Test loss: 0.112, Accuracy: 95.38\n",
      "Epoch 39/50, Training Loss: 0.111, Test loss: 0.112, Accuracy: 95.42\n",
      "Epoch 40/50, Training Loss: 0.110, Test loss: 0.113, Accuracy: 95.38\n",
      "Epoch 41/50, Training Loss: 0.110, Test loss: 0.114, Accuracy: 95.44\n",
      "Epoch 42/50, Training Loss: 0.110, Test loss: 0.113, Accuracy: 95.38\n",
      "Epoch 43/50, Training Loss: 0.109, Test loss: 0.111, Accuracy: 95.42\n",
      "Epoch 44/50, Training Loss: 0.109, Test loss: 0.110, Accuracy: 95.46\n",
      "Epoch 45/50, Training Loss: 0.108, Test loss: 0.111, Accuracy: 95.35\n",
      "Epoch 46/50, Training Loss: 0.108, Test loss: 0.111, Accuracy: 95.47\n",
      "Epoch 47/50, Training Loss: 0.107, Test loss: 0.111, Accuracy: 95.51\n",
      "Epoch 48/50, Training Loss: 0.107, Test loss: 0.110, Accuracy: 95.45\n",
      "Epoch 49/50, Training Loss: 0.107, Test loss: 0.109, Accuracy: 95.52\n",
      "Epoch 50/50, Training Loss: 0.107, Test loss: 0.111, Accuracy: 95.56\n",
      "Train Duration: 11502.632850408554\n"
     ]
    }
   ],
   "source": [
    "import copy\n",
    "import time\n",
    "\n",
    "MODEL_PATH = \"/root/code/iot_ddos_detection/models/small_lstm/\"\n",
    "MODEL_NAME = f\"small_lstm_{HIDDEN_SIZE}_{LEARNING_RATE}_{EPOCHS}.pth\"\n",
    "\n",
    "start_time = time.time()\n",
    "\n",
    "train_loss_history = []\n",
    "test_loss_history = []\n",
    "train_accuracy_history = []\n",
    "test_accuracy_history = []\n",
    "\n",
    "for i in range(EPOCHS):\n",
    "    num_correct = 0\n",
    "    num_samples = 0\n",
    "    train_loss = 0.0\n",
    "    for j, data in enumerate(train_dataloader):\n",
    "\n",
    "        x = data[:][0].view(-1,1,36)\n",
    "        y = data[:][1]\n",
    "\n",
    "        x = x.to(device)\n",
    "        y = y.to(device)\n",
    "\n",
    "        optimizer.zero_grad()\n",
    "\n",
    "        train_output = model(x)\n",
    "\n",
    "        loss = criterion(train_output.float(), y.float())\n",
    "        loss.backward()\n",
    "\n",
    "        optimizer.step()\n",
    "\n",
    "        train_loss += loss.item()\n",
    "\n",
    "        y_pred = np.round(train_output.cpu().detach()).tolist()\n",
    "        y = y.cpu().detach().tolist()\n",
    "\n",
    "        num_correct += sum(1 for a,b in zip(y_pred,y) if a == b)\n",
    "        num_samples += len(y_pred)\n",
    "        accuracy = (float(num_correct) / float(num_samples)) * 100\n",
    "\n",
    "    train_loss_history.append(train_loss/len(train_dataloader))\n",
    "    train_accuracy_history.append(accuracy)\n",
    "\n",
    "    with torch.no_grad():\n",
    "        num_correct = 0\n",
    "        num_samples = 0\n",
    "        test_loss = 0.0\n",
    "\n",
    "        for test_index, test_data in enumerate(test_dataloader):\n",
    "            test_x = test_data[:][0].view(-1,1,36).to(device)\n",
    "            test_y = test_data[:][1].to(device)\n",
    "\n",
    "            test_output = model(test_x)\n",
    "\n",
    "            loss = criterion(test_output.float(), test_y)\n",
    "\n",
    "            test_loss += loss.item()\n",
    "\n",
    "            y_pred = np.round(test_output.cpu().detach()).tolist()\n",
    "            y = test_y.cpu().detach().tolist()\n",
    "\n",
    "            num_correct += sum(1 for a,b in zip(y_pred,y) if a == b)\n",
    "            num_samples += len(y_pred)\n",
    "            accuracy = (float(num_correct) / float(num_samples)) * 100\n",
    "\n",
    "    test_loss_history.append(test_loss/len(test_dataloader))\n",
    "    test_accuracy_history.append(accuracy)\n",
    "\n",
    "    print(f\"Epoch %d/%d, Training Loss: %.3f, Test loss: %.3f, Accuracy: %.2f\" %(i+1, EPOCHS,train_loss/len(train_dataloader), (test_loss/len(test_dataloader)), accuracy))\n",
    "\n",
    "end_time = time.time()\n",
    "\n",
    "print(f\"Train Duration: {end_time - start_time}\")\n",
    "\n",
    "best_model_weights = copy.deepcopy(model.state_dict())\n",
    "torch.save(model.state_dict(),MODEL_PATH + MODEL_NAME)"
   ],
   "metadata": {
    "collapsed": false,
    "pycharm": {
     "name": "#%%\n"
    }
   }
  },
  {
   "cell_type": "code",
   "execution_count": 7,
   "outputs": [
    {
     "data": {
      "text/plain": "<Figure size 432x288 with 1 Axes>",
      "image/png": "[encoded data removed]"
     },
     "metadata": {
      "needs_background": "light"
     },
     "output_type": "display_data"
    }
   ],
   "source": [
    "import matplotlib.pyplot as plt\n",
    "\n",
    "plt.plot(train_loss_history, label='Train')\n",
    "plt.plot(test_loss_history, label='Test')\n",
    "plt.title(\"Loss per epoch\")\n",
    "plt.xlabel(\"Epoch\")\n",
    "plt.ylabel(\"Loss\")\n",
    "plt.legend()\n",
    "plt.show()"
   ],
   "metadata": {
    "collapsed": false,
    "pycharm": {
     "name": "#%%\n"
    }
   }
  },
  {
   "cell_type": "code",
   "execution_count": 8,
   "outputs": [
    {
     "data": {
      "text/plain": "<Figure size 432x288 with 1 Axes>",
      "image/png": "[encoded data removed]"
     },
     "metadata": {
      "needs_background": "light"
     },
     "output_type": "display_data"
    }
   ],
   "source": [
    "import matplotlib.pyplot as plt\n",
    "\n",
    "plt.plot(train_accuracy_history, label='Train')\n",
    "plt.plot(test_accuracy_history, label='Test')\n",
    "plt.title(\"Accuracy per epoch\")\n",
    "plt.xlabel(\"Epoch\")\n",
    "plt.ylabel(\"Accuracy\")\n",
    "plt.legend()\n",
    "plt.show()"
   ],
   "metadata": {
    "collapsed": false,
    "pycharm": {
     "name": "#%%\n"
    }
   }
  },
  {
   "cell_type": "code",
   "execution_count": 9,
   "outputs": [],
   "source": [
    "MODEL_HISTORY_NAME = f'result_small_lstm_{HIDDEN_SIZE}_{LEARNING_RATE}_{EPOCHS}.csv'\n",
    "\n",
    "results = pd.DataFrame({\n",
    "    \"train_loss\": train_loss_history,\n",
    "    \"test_loss\": test_loss_history,\n",
    "    \"train_acc\": train_accuracy_history,\n",
    "    \"test_acc\": test_accuracy_history,\n",
    "})\n",
    "results.to_csv(MODEL_PATH + MODEL_HISTORY_NAME, index=False)"
   ],
   "metadata": {
    "collapsed": false,
    "pycharm": {
     "name": "#%%\n"
    }
   }
  },
  {
   "cell_type": "code",
   "execution_count": 9,
   "outputs": [],
   "source": [],
   "metadata": {
    "collapsed": false,
    "pycharm": {
     "name": "#%%\n"
    }
   }
  }
 ],
 "metadata": {
  "kernelspec": {
   "display_name": "Python 3",
   "language": "python",
   "name": "python3"
  },
  "language_info": {
   "codemirror_mode": {
    "name": "ipython",
    "version": 2
   },
   "file_extension": ".py",
   "mimetype": "text/x-python",
   "name": "python",
   "nbconvert_exporter": "python",
   "pygments_lexer": "ipython2",
   "version": "2.7.6"
  }
 },
 "nbformat": 4,
 "nbformat_minor": 0
}
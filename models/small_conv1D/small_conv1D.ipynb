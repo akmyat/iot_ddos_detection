{
 "cells": [
  {
   "cell_type": "code",
   "execution_count": 13,
   "metadata": {
    "collapsed": true
   },
   "outputs": [],
   "source": [
    "import pandas as pd\n",
    "import torch\n",
    "from torch.utils.data import Dataset\n",
    "from sklearn.preprocessing import MinMaxScaler\n",
    "\n",
    "class TONDataset(Dataset):\n",
    "    def __init__(self, data_root, label_root):\n",
    "        sc = MinMaxScaler()\n",
    "        samples = pd.read_csv(data_root)\n",
    "        self.samples = pd.DataFrame(sc.fit_transform(samples))\n",
    "        self.labels = pd.read_csv(label_root)\n",
    "\n",
    "    def __len__(self):\n",
    "        return len(self.samples)\n",
    "\n",
    "    def __getitem__(self, idx):\n",
    "        label = torch.tensor(self.labels.iloc[idx]).float().requires_grad_()\n",
    "        sample = torch.tensor(self.samples.iloc[idx]).float().requires_grad_()\n",
    "        return sample, label"
   ]
  },
  {
   "cell_type": "code",
   "execution_count": 14,
   "outputs": [],
   "source": [
    "import numpy as np\n",
    "from torch.utils.data import SubsetRandomSampler, DataLoader\n",
    "\n",
    "BATCH_SIZE = 1024\n",
    "TEST_SPLIT_SIZE = .2\n",
    "SHUFFLE = True\n",
    "RANDOM_SEED = 42\n",
    "\n",
    "PATH = \"/root/code/iot_ddos_detection/data/\"\n",
    "data_filename = \"preprocess.csv\"\n",
    "label_filename = \"label_data.csv\"\n",
    "\n",
    "dataset = TONDataset(PATH + data_filename, PATH + label_filename)\n",
    "\n",
    "# Train and Test split\n",
    "dataset_size = len(dataset)\n",
    "indices = list(range(dataset_size))\n",
    "split = int(np.floor(TEST_SPLIT_SIZE * dataset_size))\n",
    "if SHUFFLE:\n",
    "    np.random.seed(RANDOM_SEED)\n",
    "    np.random.shuffle(indices)\n",
    "train_indices, test_indices = indices[split:], indices[:split]\n",
    "\n",
    "# Sampler\n",
    "train_sampler = SubsetRandomSampler(train_indices)\n",
    "test_sampler = SubsetRandomSampler(test_indices)\n",
    "\n",
    "# Data Loader\n",
    "train_dataloader = DataLoader(dataset, batch_size=BATCH_SIZE, sampler=train_sampler)\n",
    "test_dataloader = DataLoader(dataset, batch_size=BATCH_SIZE, sampler=test_sampler)"
   ],
   "metadata": {
    "collapsed": false,
    "pycharm": {
     "name": "#%%\n"
    }
   }
  },
  {
   "cell_type": "code",
   "execution_count": 26,
   "outputs": [],
   "source": [
    "import torch.nn as nn\n",
    "\n",
    "torch.manual_seed(1)\n",
    "HIDDEN_SIZE = 64\n",
    "\n",
    "class CONV1D(nn.Module):\n",
    "    def __init__(self):\n",
    "        super(CONV1D, self).__init__()\n",
    "\n",
    "        self.conv1d1 = nn.Conv1d(in_channels=1, out_channels=HIDDEN_SIZE, kernel_size=3, stride=2)\n",
    "        self.dropout1 = nn.Dropout(0.5)\n",
    "\n",
    "        self.conv1d2 = nn.Conv1d(in_channels=HIDDEN_SIZE, out_channels=HIDDEN_SIZE, kernel_size=3, stride=2)\n",
    "        self.dropout2 = nn.Dropout(0.5)\n",
    "\n",
    "        self.fc3 = nn.Linear(HIDDEN_SIZE * 8, 1)\n",
    "\n",
    "    def forward(self, x):\n",
    "        output = self.conv1d1(x)\n",
    "        output = self.dropout1(output)\n",
    "\n",
    "        output = self.conv1d2(output)\n",
    "        output = self.dropout2(output)\n",
    "\n",
    "        output = output.view(-1,HIDDEN_SIZE*8)\n",
    "\n",
    "        output = self.fc3(output)\n",
    "        output = torch.sigmoid(output)\n",
    "\n",
    "        return output\n",
    "\n",
    "model = CONV1D()"
   ],
   "metadata": {
    "collapsed": false,
    "pycharm": {
     "name": "#%%\n"
    }
   }
  },
  {
   "cell_type": "code",
   "execution_count": 27,
   "outputs": [
    {
     "name": "stdout",
     "output_type": "stream",
     "text": [
      "cuda:0\n"
     ]
    }
   ],
   "source": [
    "device = torch.device(\"cuda:0\" if torch.cuda.is_available() else \"cpu\")\n",
    "if torch.cuda.is_available():\n",
    "    print(device)\n",
    "    model.to(device)"
   ],
   "metadata": {
    "collapsed": false,
    "pycharm": {
     "name": "#%%\n"
    }
   }
  },
  {
   "cell_type": "code",
   "execution_count": 28,
   "outputs": [],
   "source": [
    "LEARNING_RATE = 0.001\n",
    "EPOCHS = 30\n",
    "\n",
    "criterion = torch.nn.BCELoss()\n",
    "optimizer = torch.optim.Adam(model.parameters(), lr=LEARNING_RATE)"
   ],
   "metadata": {
    "collapsed": false,
    "pycharm": {
     "name": "#%%\n"
    }
   }
  },
  {
   "cell_type": "code",
   "execution_count": 29,
   "outputs": [
    {
     "name": "stdout",
     "output_type": "stream",
     "text": [
      "Epoch 1/30, Training Loss: 0.510, Test loss: 0.475, Accuracy: 79.97\n",
      "Epoch 2/30, Training Loss: 0.463, Test loss: 0.460, Accuracy: 81.21\n",
      "Epoch 3/30, Training Loss: 0.455, Test loss: 0.458, Accuracy: 82.17\n",
      "Epoch 4/30, Training Loss: 0.451, Test loss: 0.453, Accuracy: 82.99\n",
      "Epoch 5/30, Training Loss: 0.446, Test loss: 0.445, Accuracy: 83.07\n",
      "Epoch 6/30, Training Loss: 0.443, Test loss: 0.446, Accuracy: 83.71\n",
      "Epoch 7/30, Training Loss: 0.441, Test loss: 0.444, Accuracy: 82.14\n",
      "Epoch 8/30, Training Loss: 0.439, Test loss: 0.443, Accuracy: 84.17\n",
      "Epoch 9/30, Training Loss: 0.438, Test loss: 0.440, Accuracy: 84.23\n",
      "Epoch 10/30, Training Loss: 0.437, Test loss: 0.443, Accuracy: 81.16\n",
      "Epoch 11/30, Training Loss: 0.436, Test loss: 0.437, Accuracy: 84.35\n",
      "Epoch 12/30, Training Loss: 0.435, Test loss: 0.439, Accuracy: 83.48\n",
      "Epoch 13/30, Training Loss: 0.435, Test loss: 0.437, Accuracy: 83.21\n",
      "Epoch 14/30, Training Loss: 0.434, Test loss: 0.440, Accuracy: 83.47\n",
      "Epoch 15/30, Training Loss: 0.433, Test loss: 0.435, Accuracy: 83.23\n",
      "Epoch 16/30, Training Loss: 0.433, Test loss: 0.434, Accuracy: 84.02\n",
      "Epoch 17/30, Training Loss: 0.432, Test loss: 0.436, Accuracy: 84.07\n",
      "Epoch 18/30, Training Loss: 0.432, Test loss: 0.435, Accuracy: 84.82\n",
      "Epoch 19/30, Training Loss: 0.432, Test loss: 0.434, Accuracy: 84.31\n",
      "Epoch 20/30, Training Loss: 0.432, Test loss: 0.435, Accuracy: 84.53\n",
      "Epoch 21/30, Training Loss: 0.432, Test loss: 0.434, Accuracy: 84.16\n",
      "Epoch 22/30, Training Loss: 0.432, Test loss: 0.434, Accuracy: 84.48\n",
      "Epoch 23/30, Training Loss: 0.432, Test loss: 0.432, Accuracy: 84.50\n",
      "Epoch 24/30, Training Loss: 0.431, Test loss: 0.436, Accuracy: 83.95\n",
      "Epoch 25/30, Training Loss: 0.431, Test loss: 0.435, Accuracy: 84.31\n",
      "Epoch 26/30, Training Loss: 0.431, Test loss: 0.438, Accuracy: 82.92\n",
      "Epoch 27/30, Training Loss: 0.431, Test loss: 0.433, Accuracy: 83.61\n",
      "Epoch 28/30, Training Loss: 0.431, Test loss: 0.434, Accuracy: 84.55\n",
      "Epoch 29/30, Training Loss: 0.431, Test loss: 0.435, Accuracy: 84.41\n",
      "Epoch 30/30, Training Loss: 0.431, Test loss: 0.435, Accuracy: 84.64\n",
      "Train Duration: 6926.714884519577\n"
     ]
    }
   ],
   "source": [
    "import copy\n",
    "import time\n",
    "\n",
    "start_time = time.time()\n",
    "\n",
    "train_loss_history = []\n",
    "test_loss_history = []\n",
    "train_accuracy_history = []\n",
    "test_accuracy_history = []\n",
    "\n",
    "for i in range(EPOCHS):\n",
    "    num_correct = 0\n",
    "    num_samples = 0\n",
    "    train_loss = 0.0\n",
    "    for j, data in enumerate(train_dataloader):\n",
    "\n",
    "        x = data[:][0].view(-1,1,36)\n",
    "        y = data[:][1]\n",
    "\n",
    "        x = x.to(device)\n",
    "        y = y.to(device)\n",
    "\n",
    "        optimizer.zero_grad()\n",
    "\n",
    "        train_output = model(x)\n",
    "\n",
    "        loss = criterion(train_output.float(), y.float())\n",
    "        loss.backward()\n",
    "\n",
    "        optimizer.step()\n",
    "\n",
    "        train_loss += loss.item()\n",
    "\n",
    "        y_pred = np.round(train_output.cpu().detach()).tolist()\n",
    "        y = y.cpu().detach().tolist()\n",
    "\n",
    "        num_correct += sum(1 for a,b in zip(y_pred,y) if a == b)\n",
    "        num_samples += len(y_pred)\n",
    "        accuracy = (float(num_correct) / float(num_samples)) * 100\n",
    "\n",
    "    train_loss_history.append(train_loss/len(train_dataloader))\n",
    "    train_accuracy_history.append(accuracy)\n",
    "\n",
    "    with torch.no_grad():\n",
    "        num_correct = 0\n",
    "        num_samples = 0\n",
    "        test_loss = 0.0\n",
    "\n",
    "        for test_index, test_data in enumerate(test_dataloader):\n",
    "            test_x = test_data[:][0].view(-1,1,36).to(device)\n",
    "            test_y = test_data[:][1].to(device)\n",
    "\n",
    "            test_output = model(test_x)\n",
    "\n",
    "            loss = criterion(test_output.float(), test_y)\n",
    "\n",
    "            test_loss += loss.item()\n",
    "\n",
    "            y_pred = np.round(test_output.cpu().detach()).tolist()\n",
    "            y = test_y.cpu().detach().tolist()\n",
    "\n",
    "            num_correct += sum(1 for a,b in zip(y_pred,y) if a == b)\n",
    "            num_samples += len(y_pred)\n",
    "            accuracy = (float(num_correct) / float(num_samples)) * 100\n",
    "\n",
    "    test_loss_history.append(test_loss/len(test_dataloader))\n",
    "    test_accuracy_history.append(accuracy)\n",
    "\n",
    "    print(f\"Epoch %d/%d, Training Loss: %.3f, Test loss: %.3f, Accuracy: %.2f\" %(i+1, EPOCHS,train_loss/len(train_dataloader), (test_loss/len(test_dataloader)), accuracy))\n",
    "\n",
    "end_time = time.time()\n",
    "\n",
    "print(f\"Train Duration: {end_time - start_time}\")\n",
    "\n",
    "best_model_weights = copy.deepcopy(model.state_dict())\n",
    "torch.save(model.state_dict(),f\"small_conv1d_{HIDDEN_SIZE}_{LEARNING_RATE}_{EPOCHS}.pth\")"
   ],
   "metadata": {
    "collapsed": false,
    "pycharm": {
     "name": "#%%\n"
    }
   }
  },
  {
   "cell_type": "code",
   "execution_count": 30,
   "outputs": [
    {
     "data": {
      "text/plain": "<Figure size 432x288 with 1 Axes>",
      "image/png": "[encoded data removed]"
     },
     "metadata": {
      "needs_background": "light"
     },
     "output_type": "display_data"
    }
   ],
   "source": [
    "import matplotlib.pyplot as plt\n",
    "\n",
    "plt.plot(train_loss_history, label='Train')\n",
    "plt.plot(test_loss_history, label='Test')\n",
    "plt.title(\"Loss per epoch\")\n",
    "plt.xlabel(\"Epoch\")\n",
    "plt.ylabel(\"Loss\")\n",
    "plt.legend()\n",
    "plt.show()"
   ],
   "metadata": {
    "collapsed": false,
    "pycharm": {
     "name": "#%%\n"
    }
   }
  },
  {
   "cell_type": "code",
   "execution_count": 31,
   "outputs": [
    {
     "data": {
      "text/plain": "<Figure size 432x288 with 1 Axes>",
      "image/png": "[encoded data removed]"
     },
     "metadata": {
      "needs_background": "light"
     },
     "output_type": "display_data"
    }
   ],
   "source": [
    "import matplotlib.pyplot as plt\n",
    "\n",
    "plt.plot(train_accuracy_history, label='Train')\n",
    "plt.plot(test_accuracy_history, label='Test')\n",
    "plt.title(\"Accuracy per epoch\")\n",
    "plt.xlabel(\"Epoch\")\n",
    "plt.ylabel(\"Accuracy\")\n",
    "plt.legend()\n",
    "plt.show()"
   ],
   "metadata": {
    "collapsed": false,
    "pycharm": {
     "name": "#%%\n"
    }
   }
  },
  {
   "cell_type": "code",
   "execution_count": 32,
   "outputs": [],
   "source": [
    "results = pd.DataFrame({\n",
    "    \"train_loss\": train_loss_history,\n",
    "    \"test_loss\": test_loss_history,\n",
    "    \"train_acc\": train_accuracy_history,\n",
    "    \"test_acc\": test_accuracy_history,\n",
    "})\n",
    "results.to_csv(f'result_small_rnn_{HIDDEN_SIZE}_{LEARNING_RATE}_{EPOCHS}.csv', index=False)"
   ],
   "metadata": {
    "collapsed": false,
    "pycharm": {
     "name": "#%%\n"
    }
   }
  },
  {
   "cell_type": "code",
   "execution_count": null,
   "outputs": [],
   "source": [],
   "metadata": {
    "collapsed": false,
    "pycharm": {
     "name": "#%%\n"
    }
   }
  }
 ],
 "metadata": {
  "kernelspec": {
   "display_name": "Python 3",
   "language": "python",
   "name": "python3"
  },
  "language_info": {
   "codemirror_mode": {
    "name": "ipython",
    "version": 2
   },
   "file_extension": ".py",
   "mimetype": "text/x-python",
   "name": "python",
   "nbconvert_exporter": "python",
   "pygments_lexer": "ipython2",
   "version": "2.7.6"
  }
 },
 "nbformat": 4,
 "nbformat_minor": 0
}
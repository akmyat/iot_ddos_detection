{
 "cells": [
  {
   "cell_type": "code",
   "execution_count": 47,
   "metadata": {
    "collapsed": true
   },
   "outputs": [],
   "source": [
    "import pandas as pd\n",
    "import torch\n",
    "from torch.utils.data import Dataset\n",
    "from sklearn.preprocessing import MinMaxScaler\n",
    "\n",
    "class TONDataset(Dataset):\n",
    "    def __init__(self, data_root, label_root):\n",
    "        sc = MinMaxScaler()\n",
    "        samples = pd.read_csv(data_root)\n",
    "        self.samples = pd.DataFrame(sc.fit_transform(samples))\n",
    "        self.labels = pd.read_csv(label_root)\n",
    "\n",
    "    def __len__(self):\n",
    "        return len(self.samples)\n",
    "\n",
    "    def __getitem__(self, idx):\n",
    "        label = torch.tensor(self.labels.iloc[idx]).float().requires_grad_()\n",
    "        sample = torch.tensor(self.samples.iloc[idx]).float().requires_grad_()\n",
    "        return sample, label"
   ]
  },
  {
   "cell_type": "code",
   "execution_count": 48,
   "outputs": [],
   "source": [
    "import numpy as np\n",
    "from torch.utils.data import SubsetRandomSampler, DataLoader\n",
    "\n",
    "BATCH_SIZE = 1024\n",
    "TEST_SPLIT_SIZE = .2\n",
    "SHUFFLE = True\n",
    "RANDOM_SEED = 42\n",
    "\n",
    "PATH = \"/root/code/iot_ddos_detection/data/\"\n",
    "data_filename = \"preprocess.csv\"\n",
    "label_filename = \"label_data.csv\"\n",
    "\n",
    "dataset = TONDataset(PATH + data_filename, PATH + label_filename)\n",
    "\n",
    "# Train and Test split\n",
    "dataset_size = len(dataset)\n",
    "indices = list(range(dataset_size))\n",
    "split = int(np.floor(TEST_SPLIT_SIZE * dataset_size))\n",
    "if SHUFFLE:\n",
    "    np.random.seed(RANDOM_SEED)\n",
    "    np.random.shuffle(indices)\n",
    "train_indices, test_indices = indices[split:], indices[:split]\n",
    "\n",
    "# Sampler\n",
    "train_sampler = SubsetRandomSampler(train_indices)\n",
    "test_sampler = SubsetRandomSampler(test_indices)\n",
    "\n",
    "# Data Loader\n",
    "train_dataloader = DataLoader(dataset, batch_size=BATCH_SIZE, sampler=train_sampler)\n",
    "test_dataloader = DataLoader(dataset, batch_size=BATCH_SIZE, sampler=test_sampler)"
   ],
   "metadata": {
    "collapsed": false,
    "pycharm": {
     "name": "#%%\n"
    }
   }
  },
  {
   "cell_type": "code",
   "execution_count": 49,
   "outputs": [],
   "source": [
    "import torch.nn as nn\n",
    "\n",
    "torch.manual_seed(1)\n",
    "HIDDEN_SIZE = 128\n",
    "\n",
    "class RNN(nn.Module):\n",
    "    def __init__(self):\n",
    "        super(RNN, self).__init__()\n",
    "\n",
    "        self.rnn1 = nn.RNN(input_size=36, hidden_size=HIDDEN_SIZE, num_layers=1, batch_first=True)\n",
    "        self.dropout1 = nn.Dropout(0.5)\n",
    "\n",
    "        self.rnn2 = nn.RNN(input_size=HIDDEN_SIZE, hidden_size=HIDDEN_SIZE, num_layers=1, batch_first=True)\n",
    "        self.dropout2 = nn.Dropout(0.5)\n",
    "\n",
    "        self.fc3 = nn.Linear(HIDDEN_SIZE, 1)\n",
    "\n",
    "    def forward(self, x):\n",
    "        output, _status = self.rnn1(x)\n",
    "        output = self.dropout1(output)\n",
    "\n",
    "        output, _status = self.rnn2(output)\n",
    "        output = self.dropout2(output)\n",
    "\n",
    "        output = self.fc3(output)\n",
    "        output = output.reshape(-1,1)\n",
    "        output = torch.sigmoid(output)\n",
    "\n",
    "        return output\n",
    "\n",
    "model = RNN()"
   ],
   "metadata": {
    "collapsed": false,
    "pycharm": {
     "name": "#%%\n"
    }
   }
  },
  {
   "cell_type": "code",
   "execution_count": 50,
   "outputs": [
    {
     "name": "stdout",
     "output_type": "stream",
     "text": [
      "cuda:0\n"
     ]
    }
   ],
   "source": [
    "device = torch.device(\"cuda:0\" if torch.cuda.is_available() else \"cpu\")\n",
    "if torch.cuda.is_available():\n",
    "    print(device)\n",
    "    model.to(device)"
   ],
   "metadata": {
    "collapsed": false,
    "pycharm": {
     "name": "#%%\n"
    }
   }
  },
  {
   "cell_type": "code",
   "execution_count": 51,
   "outputs": [],
   "source": [
    "LEARNING_RATE = 0.001\n",
    "EPOCHS = 50\n",
    "\n",
    "criterion = torch.nn.BCELoss()\n",
    "optimizer = torch.optim.Adam(model.parameters(), lr=LEARNING_RATE)"
   ],
   "metadata": {
    "collapsed": false,
    "pycharm": {
     "name": "#%%\n"
    }
   }
  },
  {
   "cell_type": "code",
   "execution_count": 52,
   "outputs": [
    {
     "name": "stdout",
     "output_type": "stream",
     "text": [
      "Epoch 1/50, Training Loss: 0.458, Test loss: 0.420, Accuracy: 86.80\n",
      "Epoch 2/50, Training Loss: 0.369, Test loss: 0.327, Accuracy: 87.40\n",
      "Epoch 3/50, Training Loss: 0.307, Test loss: 0.296, Accuracy: 88.32\n",
      "Epoch 4/50, Training Loss: 0.288, Test loss: 0.285, Accuracy: 88.12\n",
      "Epoch 5/50, Training Loss: 0.276, Test loss: 0.271, Accuracy: 89.74\n",
      "Epoch 6/50, Training Loss: 0.267, Test loss: 0.267, Accuracy: 90.15\n",
      "Epoch 7/50, Training Loss: 0.259, Test loss: 0.259, Accuracy: 90.45\n",
      "Epoch 8/50, Training Loss: 0.253, Test loss: 0.252, Accuracy: 90.85\n",
      "Epoch 9/50, Training Loss: 0.248, Test loss: 0.246, Accuracy: 90.99\n",
      "Epoch 10/50, Training Loss: 0.241, Test loss: 0.240, Accuracy: 90.91\n",
      "Epoch 11/50, Training Loss: 0.236, Test loss: 0.234, Accuracy: 91.27\n",
      "Epoch 12/50, Training Loss: 0.229, Test loss: 0.228, Accuracy: 90.89\n",
      "Epoch 13/50, Training Loss: 0.222, Test loss: 0.220, Accuracy: 91.48\n",
      "Epoch 14/50, Training Loss: 0.216, Test loss: 0.213, Accuracy: 91.44\n",
      "Epoch 15/50, Training Loss: 0.211, Test loss: 0.208, Accuracy: 92.05\n",
      "Epoch 16/50, Training Loss: 0.206, Test loss: 0.206, Accuracy: 92.22\n",
      "Epoch 17/50, Training Loss: 0.202, Test loss: 0.202, Accuracy: 92.26\n",
      "Epoch 18/50, Training Loss: 0.197, Test loss: 0.200, Accuracy: 92.41\n",
      "Epoch 19/50, Training Loss: 0.194, Test loss: 0.196, Accuracy: 92.49\n",
      "Epoch 20/50, Training Loss: 0.191, Test loss: 0.195, Accuracy: 92.51\n",
      "Epoch 21/50, Training Loss: 0.189, Test loss: 0.189, Accuracy: 92.71\n",
      "Epoch 22/50, Training Loss: 0.186, Test loss: 0.186, Accuracy: 92.92\n",
      "Epoch 23/50, Training Loss: 0.184, Test loss: 0.184, Accuracy: 92.73\n",
      "Epoch 24/50, Training Loss: 0.183, Test loss: 0.185, Accuracy: 92.96\n",
      "Epoch 25/50, Training Loss: 0.181, Test loss: 0.179, Accuracy: 93.14\n",
      "Epoch 26/50, Training Loss: 0.179, Test loss: 0.186, Accuracy: 93.08\n",
      "Epoch 27/50, Training Loss: 0.178, Test loss: 0.182, Accuracy: 93.10\n",
      "Epoch 28/50, Training Loss: 0.177, Test loss: 0.180, Accuracy: 93.14\n",
      "Epoch 29/50, Training Loss: 0.175, Test loss: 0.176, Accuracy: 93.27\n",
      "Epoch 30/50, Training Loss: 0.174, Test loss: 0.177, Accuracy: 93.10\n",
      "Epoch 31/50, Training Loss: 0.173, Test loss: 0.174, Accuracy: 93.19\n",
      "Epoch 32/50, Training Loss: 0.173, Test loss: 0.173, Accuracy: 93.38\n",
      "Epoch 33/50, Training Loss: 0.172, Test loss: 0.173, Accuracy: 93.41\n",
      "Epoch 34/50, Training Loss: 0.171, Test loss: 0.172, Accuracy: 93.51\n",
      "Epoch 35/50, Training Loss: 0.170, Test loss: 0.172, Accuracy: 93.35\n",
      "Epoch 36/50, Training Loss: 0.170, Test loss: 0.173, Accuracy: 93.43\n",
      "Epoch 37/50, Training Loss: 0.169, Test loss: 0.171, Accuracy: 93.47\n",
      "Epoch 38/50, Training Loss: 0.168, Test loss: 0.169, Accuracy: 93.56\n",
      "Epoch 39/50, Training Loss: 0.168, Test loss: 0.169, Accuracy: 93.47\n",
      "Epoch 40/50, Training Loss: 0.167, Test loss: 0.168, Accuracy: 93.53\n",
      "Epoch 41/50, Training Loss: 0.166, Test loss: 0.168, Accuracy: 93.57\n",
      "Epoch 42/50, Training Loss: 0.166, Test loss: 0.167, Accuracy: 93.51\n",
      "Epoch 43/50, Training Loss: 0.166, Test loss: 0.168, Accuracy: 93.56\n",
      "Epoch 44/50, Training Loss: 0.164, Test loss: 0.167, Accuracy: 93.67\n",
      "Epoch 45/50, Training Loss: 0.164, Test loss: 0.165, Accuracy: 93.59\n",
      "Epoch 46/50, Training Loss: 0.164, Test loss: 0.165, Accuracy: 93.60\n",
      "Epoch 47/50, Training Loss: 0.163, Test loss: 0.168, Accuracy: 93.74\n",
      "Epoch 48/50, Training Loss: 0.162, Test loss: 0.165, Accuracy: 93.65\n",
      "Epoch 49/50, Training Loss: 0.162, Test loss: 0.166, Accuracy: 93.79\n",
      "Epoch 50/50, Training Loss: 0.162, Test loss: 0.164, Accuracy: 93.86\n",
      "Train Duration: 11594.947571754456\n"
     ]
    }
   ],
   "source": [
    "import copy\n",
    "import time\n",
    "\n",
    "MODEL_PATH = \"/root/code/iot_ddos_detection/models/small_rnn/\"\n",
    "MODEL_NAME = f\"small_rnn_{HIDDEN_SIZE}_{LEARNING_RATE}_{EPOCHS}.pth\"\n",
    "start_time = time.time()\n",
    "\n",
    "train_loss_history = []\n",
    "test_loss_history = []\n",
    "train_accuracy_history = []\n",
    "test_accuracy_history = []\n",
    "\n",
    "for i in range(EPOCHS):\n",
    "    num_correct = 0\n",
    "    num_samples = 0\n",
    "    train_loss = 0.0\n",
    "    for j, data in enumerate(train_dataloader):\n",
    "\n",
    "        x = data[:][0].view(-1,1,36)\n",
    "        y = data[:][1]\n",
    "\n",
    "        x = x.to(device)\n",
    "        y = y.to(device)\n",
    "\n",
    "        optimizer.zero_grad()\n",
    "\n",
    "        train_output = model(x)\n",
    "\n",
    "        loss = criterion(train_output.float(), y.float())\n",
    "        loss.backward()\n",
    "\n",
    "        optimizer.step()\n",
    "\n",
    "        train_loss += loss.item()\n",
    "\n",
    "        y_pred = np.round(train_output.cpu().detach()).tolist()\n",
    "        y = y.cpu().detach().tolist()\n",
    "\n",
    "        num_correct += sum(1 for a,b in zip(y_pred,y) if a == b)\n",
    "        num_samples += len(y_pred)\n",
    "        accuracy = (float(num_correct) / float(num_samples)) * 100\n",
    "\n",
    "    train_loss_history.append(train_loss/len(train_dataloader))\n",
    "    train_accuracy_history.append(accuracy)\n",
    "\n",
    "    with torch.no_grad():\n",
    "        num_correct = 0\n",
    "        num_samples = 0\n",
    "        test_loss = 0.0\n",
    "\n",
    "        for test_index, test_data in enumerate(test_dataloader):\n",
    "            test_x = test_data[:][0].view(-1,1,36).to(device)\n",
    "            test_y = test_data[:][1].to(device)\n",
    "\n",
    "            test_output = model(test_x)\n",
    "\n",
    "            loss = criterion(test_output.float(), test_y)\n",
    "\n",
    "            test_loss += loss.item()\n",
    "\n",
    "            y_pred = np.round(test_output.cpu().detach()).tolist()\n",
    "            y = test_y.cpu().detach().tolist()\n",
    "\n",
    "            num_correct += sum(1 for a,b in zip(y_pred,y) if a == b)\n",
    "            num_samples += len(y_pred)\n",
    "            accuracy = (float(num_correct) / float(num_samples)) * 100\n",
    "\n",
    "    test_loss_history.append(test_loss/len(test_dataloader))\n",
    "    test_accuracy_history.append(accuracy)\n",
    "\n",
    "    print(f\"Epoch %d/%d, Training Loss: %.3f, Test loss: %.3f, Accuracy: %.2f\" %(i+1, EPOCHS,train_loss/len(train_dataloader), (test_loss/len(test_dataloader)), accuracy))\n",
    "\n",
    "end_time = time.time()\n",
    "\n",
    "print(f\"Train Duration: {end_time - start_time}\")\n",
    "\n",
    "best_model_weights = copy.deepcopy(model.state_dict())\n",
    "torch.save(model.state_dict(),MODEL_PATH + MODEL_NAME)"
   ],
   "metadata": {
    "collapsed": false,
    "pycharm": {
     "name": "#%%\n"
    }
   }
  },
  {
   "cell_type": "code",
   "execution_count": 53,
   "outputs": [
    {
     "data": {
      "text/plain": "<Figure size 432x288 with 1 Axes>",
      "image/png": "[encoded data removed]"
     },
     "metadata": {
      "needs_background": "light"
     },
     "output_type": "display_data"
    }
   ],
   "source": [
    "import matplotlib.pyplot as plt\n",
    "\n",
    "plt.plot(train_loss_history, label='Train')\n",
    "plt.plot(test_loss_history, label='Test')\n",
    "plt.title(\"Loss per epoch\")\n",
    "plt.xlabel(\"Epoch\")\n",
    "plt.ylabel(\"Loss\")\n",
    "plt.legend()\n",
    "plt.show()"
   ],
   "metadata": {
    "collapsed": false,
    "pycharm": {
     "name": "#%%\n"
    }
   }
  },
  {
   "cell_type": "code",
   "execution_count": 54,
   "outputs": [
    {
     "data": {
      "text/plain": "<Figure size 432x288 with 1 Axes>",
      "image/png": "[encoded data removed]"
     },
     "metadata": {
      "needs_background": "light"
     },
     "output_type": "display_data"
    }
   ],
   "source": [
    "import matplotlib.pyplot as plt\n",
    "\n",
    "plt.plot(train_accuracy_history, label='Train')\n",
    "plt.plot(test_accuracy_history, label='Test')\n",
    "plt.title(\"Accuracy per epoch\")\n",
    "plt.xlabel(\"Epoch\")\n",
    "plt.ylabel(\"Accuracy\")\n",
    "plt.legend()\n",
    "plt.show()"
   ],
   "metadata": {
    "collapsed": false,
    "pycharm": {
     "name": "#%%\n"
    }
   }
  },
  {
   "cell_type": "code",
   "execution_count": 55,
   "outputs": [],
   "source": [
    "MODEL_HISTORY_NAME = f'result_small_rnn_{HIDDEN_SIZE}_{LEARNING_RATE}_{EPOCHS}.csv'\n",
    "\n",
    "results = pd.DataFrame({\n",
    "    \"train_loss\": train_loss_history,\n",
    "    \"test_loss\": test_loss_history,\n",
    "    \"train_acc\": train_accuracy_history,\n",
    "    \"test_acc\": test_accuracy_history,\n",
    "})\n",
    "results.to_csv(MODEL_PATH + MODEL_HISTORY_NAME, index=False)"
   ],
   "metadata": {
    "collapsed": false,
    "pycharm": {
     "name": "#%%\n"
    }
   }
  },
  {
   "cell_type": "code",
   "execution_count": 55,
   "outputs": [],
   "source": [],
   "metadata": {
    "collapsed": false,
    "pycharm": {
     "name": "#%%\n"
    }
   }
  }
 ],
 "metadata": {
  "kernelspec": {
   "display_name": "Python 3",
   "language": "python",
   "name": "python3"
  },
  "language_info": {
   "codemirror_mode": {
    "name": "ipython",
    "version": 2
   },
   "file_extension": ".py",
   "mimetype": "text/x-python",
   "name": "python",
   "nbconvert_exporter": "python",
   "pygments_lexer": "ipython2",
   "version": "2.7.6"
  }
 },
 "nbformat": 4,
 "nbformat_minor": 0
}